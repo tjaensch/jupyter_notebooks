{
 "cells": [
  {
   "cell_type": "code",
   "execution_count": 8,
   "metadata": {
    "collapsed": false
   },
   "outputs": [],
   "source": [
    "library(KernSmooth)"
   ]
  },
  {
   "cell_type": "code",
   "execution_count": 9,
   "metadata": {
    "collapsed": false
   },
   "outputs": [
    {
     "data": {
      "text/html": [
       "0.0502016179994666"
      ],
      "text/latex": [
       "0.0502016179994666"
      ],
      "text/markdown": [
       "0.0502016179994666"
      ],
      "text/plain": [
       "[1] 0.05020162"
      ]
     },
     "metadata": {},
     "output_type": "display_data"
    }
   ],
   "source": [
    "myfunction <- function(x) {\n",
    "    y <- rnorm(100)\n",
    "    mean(y)\n",
    "}\n",
    "myfunction()"
   ]
  },
  {
   "cell_type": "code",
   "execution_count": 10,
   "metadata": {
    "collapsed": false
   },
   "outputs": [],
   "source": [
    "x <- 20"
   ]
  },
  {
   "cell_type": "code",
   "execution_count": 11,
   "metadata": {
    "collapsed": false
   },
   "outputs": [
    {
     "data": {
      "text/html": [
       "20"
      ],
      "text/latex": [
       "20"
      ],
      "text/markdown": [
       "20"
      ],
      "text/plain": [
       "[1] 20"
      ]
     },
     "metadata": {},
     "output_type": "display_data"
    }
   ],
   "source": [
    "x"
   ]
  },
  {
   "cell_type": "code",
   "execution_count": 12,
   "metadata": {
    "collapsed": false
   },
   "outputs": [
    {
     "data": {
      "text/html": [
       "<ol class=list-inline>\n",
       "\t<li>1</li>\n",
       "\t<li>2</li>\n",
       "\t<li>3</li>\n",
       "\t<li>4</li>\n",
       "\t<li>5</li>\n",
       "\t<li>6</li>\n",
       "\t<li>7</li>\n",
       "\t<li>8</li>\n",
       "\t<li>9</li>\n",
       "\t<li>10</li>\n",
       "\t<li>11</li>\n",
       "\t<li>12</li>\n",
       "\t<li>13</li>\n",
       "\t<li>14</li>\n",
       "\t<li>15</li>\n",
       "\t<li>16</li>\n",
       "\t<li>17</li>\n",
       "\t<li>18</li>\n",
       "\t<li>19</li>\n",
       "\t<li>20</li>\n",
       "</ol>\n"
      ],
      "text/latex": [
       "\\begin{enumerate*}\n",
       "\\item 1\n",
       "\\item 2\n",
       "\\item 3\n",
       "\\item 4\n",
       "\\item 5\n",
       "\\item 6\n",
       "\\item 7\n",
       "\\item 8\n",
       "\\item 9\n",
       "\\item 10\n",
       "\\item 11\n",
       "\\item 12\n",
       "\\item 13\n",
       "\\item 14\n",
       "\\item 15\n",
       "\\item 16\n",
       "\\item 17\n",
       "\\item 18\n",
       "\\item 19\n",
       "\\item 20\n",
       "\\end{enumerate*}\n"
      ],
      "text/markdown": [
       "1. 1\n",
       "2. 2\n",
       "3. 3\n",
       "4. 4\n",
       "5. 5\n",
       "6. 6\n",
       "7. 7\n",
       "8. 8\n",
       "9. 9\n",
       "10. 10\n",
       "11. 11\n",
       "12. 12\n",
       "13. 13\n",
       "14. 14\n",
       "15. 15\n",
       "16. 16\n",
       "17. 17\n",
       "18. 18\n",
       "19. 19\n",
       "20. 20\n",
       "\n",
       "\n"
      ],
      "text/plain": [
       " [1]  1  2  3  4  5  6  7  8  9 10 11 12 13 14 15 16 17 18 19 20"
      ]
     },
     "metadata": {},
     "output_type": "display_data"
    }
   ],
   "source": [
    "x <- 1:20\n",
    "x"
   ]
  },
  {
   "cell_type": "code",
   "execution_count": 13,
   "metadata": {
    "collapsed": true
   },
   "outputs": [],
   "source": [
    "data <- read.csv('Philadelphia_Crime_Rate_noNA.csv')"
   ]
  },
  {
   "cell_type": "code",
   "execution_count": 14,
   "metadata": {
    "collapsed": false
   },
   "outputs": [
    {
     "data": {
      "text/html": [
       "<table>\n",
       "<thead><tr><th scope=col>HousePrice</th><th scope=col>HsPrc...10.000.</th><th scope=col>CrimeRate</th><th scope=col>MilesPhila</th><th scope=col>PopChg</th><th scope=col>Name</th><th scope=col>County</th></tr></thead>\n",
       "<tbody>\n",
       "\t<tr><td>140463      </td><td>14.0463     </td><td>29.7        </td><td>10          </td><td>-1.0        </td><td>Abington    </td><td>Montgome    </td></tr>\n",
       "\t<tr><td>113033      </td><td>11.3033     </td><td>24.1        </td><td>18          </td><td> 4.0        </td><td>Ambler      </td><td>Montgome    </td></tr>\n",
       "\t<tr><td>124186      </td><td>12.4186     </td><td>19.5        </td><td>25          </td><td> 8.0        </td><td>Aston       </td><td>Delaware    </td></tr>\n",
       "\t<tr><td>110490      </td><td>11.0490     </td><td>49.4        </td><td>25          </td><td> 2.7        </td><td>Bensalem    </td><td>Bucks       </td></tr>\n",
       "\t<tr><td> 79124      </td><td> 7.9124     </td><td>54.1        </td><td>19          </td><td> 3.9        </td><td>Bristol B.  </td><td>Bucks       </td></tr>\n",
       "\t<tr><td> 92634      </td><td> 9.2634     </td><td>48.6        </td><td>20          </td><td> 0.6        </td><td>Bristol T.  </td><td>Bucks       </td></tr>\n",
       "\t<tr><td> 89246      </td><td> 8.9246     </td><td>30.8        </td><td>15          </td><td>-2.6        </td><td>Brookhaven  </td><td>Delaware    </td></tr>\n",
       "\t<tr><td>195145      </td><td>19.5145     </td><td>10.8        </td><td>20          </td><td>-3.5        </td><td>Bryn Athyn  </td><td>Montgome    </td></tr>\n",
       "\t<tr><td>297342      </td><td>29.7342     </td><td>20.2        </td><td>14          </td><td> 0.6        </td><td>Bryn Mawr   </td><td>Montgome    </td></tr>\n",
       "\t<tr><td>264298      </td><td>26.4298     </td><td>20.4        </td><td>26          </td><td> 6.0        </td><td>Buckingham  </td><td>Bucks       </td></tr>\n",
       "\t<tr><td>134342      </td><td>13.4342     </td><td>17.3        </td><td>31          </td><td> 4.2        </td><td>Chalfont    </td><td>Bucks       </td></tr>\n",
       "\t<tr><td>147600      </td><td>14.7600     </td><td>50.3        </td><td> 9          </td><td>-1.0        </td><td>Cheltenham  </td><td>Montgome    </td></tr>\n",
       "\t<tr><td> 77370      </td><td> 7.7370     </td><td>34.2        </td><td>10          </td><td>-1.2        </td><td>Clifton     </td><td>Delaware    </td></tr>\n",
       "\t<tr><td>170822      </td><td>17.0822     </td><td>33.7        </td><td>32          </td><td> 2.4        </td><td>Collegeville</td><td>Montgome    </td></tr>\n",
       "\t<tr><td> 40642      </td><td> 4.0642     </td><td>45.7        </td><td>15          </td><td> 0.0        </td><td>Darby Bor.  </td><td>Delaware    </td></tr>\n",
       "\t<tr><td> 71359      </td><td> 7.1359     </td><td>22.3        </td><td> 8          </td><td> 1.6        </td><td>Darby Town  </td><td>Delaware    </td></tr>\n",
       "\t<tr><td>104923      </td><td>10.4923     </td><td>48.1        </td><td>21          </td><td> 6.9        </td><td>Downingtown </td><td>Chester     </td></tr>\n",
       "\t<tr><td>190317      </td><td>19.0317     </td><td>19.4        </td><td>26          </td><td> 1.9        </td><td>Doylestown  </td><td>Bucks       </td></tr>\n",
       "\t<tr><td>215512      </td><td>21.5512     </td><td>71.9        </td><td>26          </td><td> 5.8        </td><td>E. Bradford </td><td>Chester     </td></tr>\n",
       "\t<tr><td>178105      </td><td>17.8105     </td><td>45.1        </td><td>25          </td><td> 2.3        </td><td>E. Goshen   </td><td>Chester     </td></tr>\n",
       "\t<tr><td>131025      </td><td>13.1025     </td><td>31.3        </td><td>19          </td><td>-1.8        </td><td>E. Norriton </td><td>Montgome    </td></tr>\n",
       "\t<tr><td>149844      </td><td>14.9844     </td><td>24.9        </td><td>22          </td><td> 6.4        </td><td>E. Pikeland </td><td>Chester     </td></tr>\n",
       "\t<tr><td>170556      </td><td>17.0556     </td><td>27.2        </td><td>30          </td><td> 4.6        </td><td>E. Whiteland</td><td>Chester     </td></tr>\n",
       "\t<tr><td>280969      </td><td>28.0969     </td><td>17.7        </td><td>14          </td><td> 2.9        </td><td>Easttown    </td><td>Chester     </td></tr>\n",
       "\t<tr><td>114233      </td><td>11.4233     </td><td>29.0        </td><td>30          </td><td> 1.3        </td><td>Falls Town  </td><td>Bucks       </td></tr>\n",
       "\t<tr><td> 74502      </td><td> 7.4502     </td><td>21.4        </td><td>15          </td><td>-3.2        </td><td>Follcroft   </td><td>Delaware    </td></tr>\n",
       "\t<tr><td>475112      </td><td>47.5112     </td><td>28.6        </td><td>12          </td><td>  NA        </td><td>Gladwyne    </td><td>Montgome    </td></tr>\n",
       "\t<tr><td> 97167      </td><td> 9.7167     </td><td>29.3        </td><td>10          </td><td> 0.2        </td><td>Glenolden   </td><td>Delaware    </td></tr>\n",
       "\t<tr><td>114572      </td><td>11.4572     </td><td>17.5        </td><td>20          </td><td> 5.2        </td><td>Hatboro     </td><td>Montgome    </td></tr>\n",
       "\t<tr><td>436348      </td><td>43.6348     </td><td>16.5        </td><td>10          </td><td>-0.7        </td><td>Haverford   </td><td>Delaware    </td></tr>\n",
       "\t<tr><td>⋮</td><td>⋮</td><td>⋮</td><td>⋮</td><td>⋮</td><td>⋮</td><td>⋮</td></tr>\n",
       "\t<tr><td>100231        </td><td>10.0231       </td><td>24.1          </td><td>15            </td><td> 1.9          </td><td>Ridley Town   </td><td>Delaware      </td></tr>\n",
       "\t<tr><td> 95831        </td><td> 9.5831       </td><td>21.2          </td><td>32            </td><td> 3.2          </td><td>Royersford    </td><td>Montgome      </td></tr>\n",
       "\t<tr><td>229711        </td><td>22.9711       </td><td> 9.8          </td><td>22            </td><td> 5.3          </td><td>Schuylkill    </td><td>Chester       </td></tr>\n",
       "\t<tr><td> 74308        </td><td> 7.4308       </td><td>29.9          </td><td> 7            </td><td> 1.8          </td><td>Sharon Hill   </td><td>Delaware      </td></tr>\n",
       "\t<tr><td>259506        </td><td>25.9506       </td><td> 7.2          </td><td>40            </td><td>17.4          </td><td>Solebury      </td><td>Bucks         </td></tr>\n",
       "\t<tr><td>159573        </td><td>15.9573       </td><td>19.4          </td><td>15            </td><td>-2.1          </td><td>Springfield   </td><td>Montgome      </td></tr>\n",
       "\t<tr><td>147176        </td><td>14.7176       </td><td>41.1          </td><td>12            </td><td>-1.7          </td><td>Springfield   </td><td>Delaware      </td></tr>\n",
       "\t<tr><td>205732        </td><td>20.5732       </td><td>11.2          </td><td>12            </td><td>-0.2          </td><td>Swarthmore    </td><td>Delaware      </td></tr>\n",
       "\t<tr><td>215783        </td><td>21.5783       </td><td>21.2          </td><td>20            </td><td> 1.1          </td><td>Tredyffin     </td><td>Chester       </td></tr>\n",
       "\t<tr><td>116710        </td><td>11.6710       </td><td>42.8          </td><td>20            </td><td>12.9          </td><td>U. Chichester </td><td>Delaware      </td></tr>\n",
       "\t<tr><td>359112        </td><td>35.9112       </td><td> 9.4          </td><td>36            </td><td> 4.0          </td><td>U. Makefield  </td><td>Bucks         </td></tr>\n",
       "\t<tr><td>189959        </td><td>18.9959       </td><td>61.7          </td><td>22            </td><td>-2.1          </td><td>U. Merion     </td><td>Montgome      </td></tr>\n",
       "\t<tr><td>133198        </td><td>13.3198       </td><td>19.4          </td><td>22            </td><td>-2.0          </td><td>U. Moreland   </td><td>Montgome      </td></tr>\n",
       "\t<tr><td>242821        </td><td>24.2821       </td><td> 6.6          </td><td>21            </td><td> 1.6          </td><td>U. Providence </td><td>Delaware      </td></tr>\n",
       "\t<tr><td>142811        </td><td>14.2811       </td><td>15.9          </td><td>20            </td><td>-1.6          </td><td>U. Southampton</td><td>Bucks         </td></tr>\n",
       "\t<tr><td>200498        </td><td>20.0498       </td><td>18.8          </td><td>36            </td><td>11.0          </td><td>U. Uwchlan    </td><td>Chester       </td></tr>\n",
       "\t<tr><td>199065        </td><td>19.9065       </td><td>13.2          </td><td>20            </td><td> 7.8          </td><td>Upper Darby   </td><td>Montgome      </td></tr>\n",
       "\t<tr><td> 93648        </td><td> 9.3648       </td><td>34.5          </td><td> 8            </td><td>-0.7          </td><td>Upper Darby   </td><td>Delaware      </td></tr>\n",
       "\t<tr><td>163001        </td><td>16.3001       </td><td>22.1          </td><td>50            </td><td> 8.0          </td><td>Uwchlan T.    </td><td>Chester       </td></tr>\n",
       "\t<tr><td>436348        </td><td>43.6348       </td><td>22.1          </td><td>15            </td><td> 1.3          </td><td>Villanova     </td><td>Montgome      </td></tr>\n",
       "\t<tr><td>124478        </td><td>12.4478       </td><td>71.9          </td><td>22            </td><td> 4.6          </td><td>W. Chester    </td><td>Chester       </td></tr>\n",
       "\t<tr><td>168276        </td><td>16.8276       </td><td>31.9          </td><td>26            </td><td> 5.9          </td><td>W. Goshen     </td><td>Chester       </td></tr>\n",
       "\t<tr><td>114157        </td><td>11.4157       </td><td>44.6          </td><td>38            </td><td>14.6          </td><td>W. Whiteland  </td><td>Chester       </td></tr>\n",
       "\t<tr><td>130088        </td><td>13.0088       </td><td>28.6          </td><td>19            </td><td>-0.2          </td><td>Warminster    </td><td>Bucks         </td></tr>\n",
       "\t<tr><td>152624        </td><td>15.2624       </td><td>24.0          </td><td>19            </td><td>23.1          </td><td>Warrington    </td><td>Bucks         </td></tr>\n",
       "\t<tr><td>174232        </td><td>17.4232       </td><td>13.8          </td><td>25            </td><td> 4.7          </td><td>Westtown      </td><td>Chester       </td></tr>\n",
       "\t<tr><td>196515        </td><td>19.6515       </td><td>29.9          </td><td>16            </td><td> 1.8          </td><td>Whitemarsh    </td><td>Montgome      </td></tr>\n",
       "\t<tr><td>232714        </td><td>23.2714       </td><td> 9.9          </td><td>21            </td><td> 0.2          </td><td>Willistown    </td><td>Chester       </td></tr>\n",
       "\t<tr><td>245920        </td><td>24.5920       </td><td>22.6          </td><td>10            </td><td> 0.3          </td><td>Wynnewood     </td><td>Montgome      </td></tr>\n",
       "\t<tr><td>130953        </td><td>13.0953       </td><td>13.0          </td><td>24            </td><td> 5.2          </td><td>Yardley       </td><td>Bucks         </td></tr>\n",
       "</tbody>\n",
       "</table>\n"
      ],
      "text/latex": [
       "\\begin{tabular}{r|lllllll}\n",
       " HousePrice & HsPrc...10.000. & CrimeRate & MilesPhila & PopChg & Name & County\\\\\n",
       "\\hline\n",
       "\t 140463       & 14.0463      & 29.7         & 10           & -1.0         & Abington     & Montgome    \\\\\n",
       "\t 113033       & 11.3033      & 24.1         & 18           &  4.0         & Ambler       & Montgome    \\\\\n",
       "\t 124186       & 12.4186      & 19.5         & 25           &  8.0         & Aston        & Delaware    \\\\\n",
       "\t 110490       & 11.0490      & 49.4         & 25           &  2.7         & Bensalem     & Bucks       \\\\\n",
       "\t  79124       &  7.9124      & 54.1         & 19           &  3.9         & Bristol B.   & Bucks       \\\\\n",
       "\t  92634       &  9.2634      & 48.6         & 20           &  0.6         & Bristol T.   & Bucks       \\\\\n",
       "\t  89246       &  8.9246      & 30.8         & 15           & -2.6         & Brookhaven   & Delaware    \\\\\n",
       "\t 195145       & 19.5145      & 10.8         & 20           & -3.5         & Bryn Athyn   & Montgome    \\\\\n",
       "\t 297342       & 29.7342      & 20.2         & 14           &  0.6         & Bryn Mawr    & Montgome    \\\\\n",
       "\t 264298       & 26.4298      & 20.4         & 26           &  6.0         & Buckingham   & Bucks       \\\\\n",
       "\t 134342       & 13.4342      & 17.3         & 31           &  4.2         & Chalfont     & Bucks       \\\\\n",
       "\t 147600       & 14.7600      & 50.3         &  9           & -1.0         & Cheltenham   & Montgome    \\\\\n",
       "\t  77370       &  7.7370      & 34.2         & 10           & -1.2         & Clifton      & Delaware    \\\\\n",
       "\t 170822       & 17.0822      & 33.7         & 32           &  2.4         & Collegeville & Montgome    \\\\\n",
       "\t  40642       &  4.0642      & 45.7         & 15           &  0.0         & Darby Bor.   & Delaware    \\\\\n",
       "\t  71359       &  7.1359      & 22.3         &  8           &  1.6         & Darby Town   & Delaware    \\\\\n",
       "\t 104923       & 10.4923      & 48.1         & 21           &  6.9         & Downingtown  & Chester     \\\\\n",
       "\t 190317       & 19.0317      & 19.4         & 26           &  1.9         & Doylestown   & Bucks       \\\\\n",
       "\t 215512       & 21.5512      & 71.9         & 26           &  5.8         & E. Bradford  & Chester     \\\\\n",
       "\t 178105       & 17.8105      & 45.1         & 25           &  2.3         & E. Goshen    & Chester     \\\\\n",
       "\t 131025       & 13.1025      & 31.3         & 19           & -1.8         & E. Norriton  & Montgome    \\\\\n",
       "\t 149844       & 14.9844      & 24.9         & 22           &  6.4         & E. Pikeland  & Chester     \\\\\n",
       "\t 170556       & 17.0556      & 27.2         & 30           &  4.6         & E. Whiteland & Chester     \\\\\n",
       "\t 280969       & 28.0969      & 17.7         & 14           &  2.9         & Easttown     & Chester     \\\\\n",
       "\t 114233       & 11.4233      & 29.0         & 30           &  1.3         & Falls Town   & Bucks       \\\\\n",
       "\t  74502       &  7.4502      & 21.4         & 15           & -3.2         & Follcroft    & Delaware    \\\\\n",
       "\t 475112       & 47.5112      & 28.6         & 12           &   NA         & Gladwyne     & Montgome    \\\\\n",
       "\t  97167       &  9.7167      & 29.3         & 10           &  0.2         & Glenolden    & Delaware    \\\\\n",
       "\t 114572       & 11.4572      & 17.5         & 20           &  5.2         & Hatboro      & Montgome    \\\\\n",
       "\t 436348       & 43.6348      & 16.5         & 10           & -0.7         & Haverford    & Delaware    \\\\\n",
       "\t ⋮ & ⋮ & ⋮ & ⋮ & ⋮ & ⋮ & ⋮\\\\\n",
       "\t 100231         & 10.0231        & 24.1           & 15             &  1.9           & Ridley Town    & Delaware      \\\\\n",
       "\t  95831         &  9.5831        & 21.2           & 32             &  3.2           & Royersford     & Montgome      \\\\\n",
       "\t 229711         & 22.9711        &  9.8           & 22             &  5.3           & Schuylkill     & Chester       \\\\\n",
       "\t  74308         &  7.4308        & 29.9           &  7             &  1.8           & Sharon Hill    & Delaware      \\\\\n",
       "\t 259506         & 25.9506        &  7.2           & 40             & 17.4           & Solebury       & Bucks         \\\\\n",
       "\t 159573         & 15.9573        & 19.4           & 15             & -2.1           & Springfield    & Montgome      \\\\\n",
       "\t 147176         & 14.7176        & 41.1           & 12             & -1.7           & Springfield    & Delaware      \\\\\n",
       "\t 205732         & 20.5732        & 11.2           & 12             & -0.2           & Swarthmore     & Delaware      \\\\\n",
       "\t 215783         & 21.5783        & 21.2           & 20             &  1.1           & Tredyffin      & Chester       \\\\\n",
       "\t 116710         & 11.6710        & 42.8           & 20             & 12.9           & U. Chichester  & Delaware      \\\\\n",
       "\t 359112         & 35.9112        &  9.4           & 36             &  4.0           & U. Makefield   & Bucks         \\\\\n",
       "\t 189959         & 18.9959        & 61.7           & 22             & -2.1           & U. Merion      & Montgome      \\\\\n",
       "\t 133198         & 13.3198        & 19.4           & 22             & -2.0           & U. Moreland    & Montgome      \\\\\n",
       "\t 242821         & 24.2821        &  6.6           & 21             &  1.6           & U. Providence  & Delaware      \\\\\n",
       "\t 142811         & 14.2811        & 15.9           & 20             & -1.6           & U. Southampton & Bucks         \\\\\n",
       "\t 200498         & 20.0498        & 18.8           & 36             & 11.0           & U. Uwchlan     & Chester       \\\\\n",
       "\t 199065         & 19.9065        & 13.2           & 20             &  7.8           & Upper Darby    & Montgome      \\\\\n",
       "\t  93648         &  9.3648        & 34.5           &  8             & -0.7           & Upper Darby    & Delaware      \\\\\n",
       "\t 163001         & 16.3001        & 22.1           & 50             &  8.0           & Uwchlan T.     & Chester       \\\\\n",
       "\t 436348         & 43.6348        & 22.1           & 15             &  1.3           & Villanova      & Montgome      \\\\\n",
       "\t 124478         & 12.4478        & 71.9           & 22             &  4.6           & W. Chester     & Chester       \\\\\n",
       "\t 168276         & 16.8276        & 31.9           & 26             &  5.9           & W. Goshen      & Chester       \\\\\n",
       "\t 114157         & 11.4157        & 44.6           & 38             & 14.6           & W. Whiteland   & Chester       \\\\\n",
       "\t 130088         & 13.0088        & 28.6           & 19             & -0.2           & Warminster     & Bucks         \\\\\n",
       "\t 152624         & 15.2624        & 24.0           & 19             & 23.1           & Warrington     & Bucks         \\\\\n",
       "\t 174232         & 17.4232        & 13.8           & 25             &  4.7           & Westtown       & Chester       \\\\\n",
       "\t 196515         & 19.6515        & 29.9           & 16             &  1.8           & Whitemarsh     & Montgome      \\\\\n",
       "\t 232714         & 23.2714        &  9.9           & 21             &  0.2           & Willistown     & Chester       \\\\\n",
       "\t 245920         & 24.5920        & 22.6           & 10             &  0.3           & Wynnewood      & Montgome      \\\\\n",
       "\t 130953         & 13.0953        & 13.0           & 24             &  5.2           & Yardley        & Bucks         \\\\\n",
       "\\end{tabular}\n"
      ],
      "text/markdown": [
       "\n",
       "HousePrice | HsPrc...10.000. | CrimeRate | MilesPhila | PopChg | Name | County | \n",
       "|---|---|---|---|---|---|---|---|---|---|---|---|---|---|---|---|---|---|---|---|---|---|---|---|---|---|---|---|---|---|---|---|---|---|---|---|---|---|---|---|---|---|---|---|---|---|---|---|---|---|---|---|---|---|---|---|---|---|---|---|---|\n",
       "| 140463       | 14.0463      | 29.7         | 10           | -1.0         | Abington     | Montgome     | \n",
       "| 113033       | 11.3033      | 24.1         | 18           |  4.0         | Ambler       | Montgome     | \n",
       "| 124186       | 12.4186      | 19.5         | 25           |  8.0         | Aston        | Delaware     | \n",
       "| 110490       | 11.0490      | 49.4         | 25           |  2.7         | Bensalem     | Bucks        | \n",
       "|  79124       |  7.9124      | 54.1         | 19           |  3.9         | Bristol B.   | Bucks        | \n",
       "|  92634       |  9.2634      | 48.6         | 20           |  0.6         | Bristol T.   | Bucks        | \n",
       "|  89246       |  8.9246      | 30.8         | 15           | -2.6         | Brookhaven   | Delaware     | \n",
       "| 195145       | 19.5145      | 10.8         | 20           | -3.5         | Bryn Athyn   | Montgome     | \n",
       "| 297342       | 29.7342      | 20.2         | 14           |  0.6         | Bryn Mawr    | Montgome     | \n",
       "| 264298       | 26.4298      | 20.4         | 26           |  6.0         | Buckingham   | Bucks        | \n",
       "| 134342       | 13.4342      | 17.3         | 31           |  4.2         | Chalfont     | Bucks        | \n",
       "| 147600       | 14.7600      | 50.3         |  9           | -1.0         | Cheltenham   | Montgome     | \n",
       "|  77370       |  7.7370      | 34.2         | 10           | -1.2         | Clifton      | Delaware     | \n",
       "| 170822       | 17.0822      | 33.7         | 32           |  2.4         | Collegeville | Montgome     | \n",
       "|  40642       |  4.0642      | 45.7         | 15           |  0.0         | Darby Bor.   | Delaware     | \n",
       "|  71359       |  7.1359      | 22.3         |  8           |  1.6         | Darby Town   | Delaware     | \n",
       "| 104923       | 10.4923      | 48.1         | 21           |  6.9         | Downingtown  | Chester      | \n",
       "| 190317       | 19.0317      | 19.4         | 26           |  1.9         | Doylestown   | Bucks        | \n",
       "| 215512       | 21.5512      | 71.9         | 26           |  5.8         | E. Bradford  | Chester      | \n",
       "| 178105       | 17.8105      | 45.1         | 25           |  2.3         | E. Goshen    | Chester      | \n",
       "| 131025       | 13.1025      | 31.3         | 19           | -1.8         | E. Norriton  | Montgome     | \n",
       "| 149844       | 14.9844      | 24.9         | 22           |  6.4         | E. Pikeland  | Chester      | \n",
       "| 170556       | 17.0556      | 27.2         | 30           |  4.6         | E. Whiteland | Chester      | \n",
       "| 280969       | 28.0969      | 17.7         | 14           |  2.9         | Easttown     | Chester      | \n",
       "| 114233       | 11.4233      | 29.0         | 30           |  1.3         | Falls Town   | Bucks        | \n",
       "|  74502       |  7.4502      | 21.4         | 15           | -3.2         | Follcroft    | Delaware     | \n",
       "| 475112       | 47.5112      | 28.6         | 12           |   NA         | Gladwyne     | Montgome     | \n",
       "|  97167       |  9.7167      | 29.3         | 10           |  0.2         | Glenolden    | Delaware     | \n",
       "| 114572       | 11.4572      | 17.5         | 20           |  5.2         | Hatboro      | Montgome     | \n",
       "| 436348       | 43.6348      | 16.5         | 10           | -0.7         | Haverford    | Delaware     | \n",
       "| ⋮ | ⋮ | ⋮ | ⋮ | ⋮ | ⋮ | ⋮ | \n",
       "| 100231         | 10.0231        | 24.1           | 15             |  1.9           | Ridley Town    | Delaware       | \n",
       "|  95831         |  9.5831        | 21.2           | 32             |  3.2           | Royersford     | Montgome       | \n",
       "| 229711         | 22.9711        |  9.8           | 22             |  5.3           | Schuylkill     | Chester        | \n",
       "|  74308         |  7.4308        | 29.9           |  7             |  1.8           | Sharon Hill    | Delaware       | \n",
       "| 259506         | 25.9506        |  7.2           | 40             | 17.4           | Solebury       | Bucks          | \n",
       "| 159573         | 15.9573        | 19.4           | 15             | -2.1           | Springfield    | Montgome       | \n",
       "| 147176         | 14.7176        | 41.1           | 12             | -1.7           | Springfield    | Delaware       | \n",
       "| 205732         | 20.5732        | 11.2           | 12             | -0.2           | Swarthmore     | Delaware       | \n",
       "| 215783         | 21.5783        | 21.2           | 20             |  1.1           | Tredyffin      | Chester        | \n",
       "| 116710         | 11.6710        | 42.8           | 20             | 12.9           | U. Chichester  | Delaware       | \n",
       "| 359112         | 35.9112        |  9.4           | 36             |  4.0           | U. Makefield   | Bucks          | \n",
       "| 189959         | 18.9959        | 61.7           | 22             | -2.1           | U. Merion      | Montgome       | \n",
       "| 133198         | 13.3198        | 19.4           | 22             | -2.0           | U. Moreland    | Montgome       | \n",
       "| 242821         | 24.2821        |  6.6           | 21             |  1.6           | U. Providence  | Delaware       | \n",
       "| 142811         | 14.2811        | 15.9           | 20             | -1.6           | U. Southampton | Bucks          | \n",
       "| 200498         | 20.0498        | 18.8           | 36             | 11.0           | U. Uwchlan     | Chester        | \n",
       "| 199065         | 19.9065        | 13.2           | 20             |  7.8           | Upper Darby    | Montgome       | \n",
       "|  93648         |  9.3648        | 34.5           |  8             | -0.7           | Upper Darby    | Delaware       | \n",
       "| 163001         | 16.3001        | 22.1           | 50             |  8.0           | Uwchlan T.     | Chester        | \n",
       "| 436348         | 43.6348        | 22.1           | 15             |  1.3           | Villanova      | Montgome       | \n",
       "| 124478         | 12.4478        | 71.9           | 22             |  4.6           | W. Chester     | Chester        | \n",
       "| 168276         | 16.8276        | 31.9           | 26             |  5.9           | W. Goshen      | Chester        | \n",
       "| 114157         | 11.4157        | 44.6           | 38             | 14.6           | W. Whiteland   | Chester        | \n",
       "| 130088         | 13.0088        | 28.6           | 19             | -0.2           | Warminster     | Bucks          | \n",
       "| 152624         | 15.2624        | 24.0           | 19             | 23.1           | Warrington     | Bucks          | \n",
       "| 174232         | 17.4232        | 13.8           | 25             |  4.7           | Westtown       | Chester        | \n",
       "| 196515         | 19.6515        | 29.9           | 16             |  1.8           | Whitemarsh     | Montgome       | \n",
       "| 232714         | 23.2714        |  9.9           | 21             |  0.2           | Willistown     | Chester        | \n",
       "| 245920         | 24.5920        | 22.6           | 10             |  0.3           | Wynnewood      | Montgome       | \n",
       "| 130953         | 13.0953        | 13.0           | 24             |  5.2           | Yardley        | Bucks          | \n",
       "\n",
       "\n"
      ],
      "text/plain": [
       "   HousePrice HsPrc...10.000. CrimeRate MilesPhila PopChg Name          \n",
       "1  140463     14.0463         29.7      10         -1.0   Abington      \n",
       "2  113033     11.3033         24.1      18          4.0   Ambler        \n",
       "3  124186     12.4186         19.5      25          8.0   Aston         \n",
       "4  110490     11.0490         49.4      25          2.7   Bensalem      \n",
       "5   79124      7.9124         54.1      19          3.9   Bristol B.    \n",
       "6   92634      9.2634         48.6      20          0.6   Bristol T.    \n",
       "7   89246      8.9246         30.8      15         -2.6   Brookhaven    \n",
       "8  195145     19.5145         10.8      20         -3.5   Bryn Athyn    \n",
       "9  297342     29.7342         20.2      14          0.6   Bryn Mawr     \n",
       "10 264298     26.4298         20.4      26          6.0   Buckingham    \n",
       "11 134342     13.4342         17.3      31          4.2   Chalfont      \n",
       "12 147600     14.7600         50.3       9         -1.0   Cheltenham    \n",
       "13  77370      7.7370         34.2      10         -1.2   Clifton       \n",
       "14 170822     17.0822         33.7      32          2.4   Collegeville  \n",
       "15  40642      4.0642         45.7      15          0.0   Darby Bor.    \n",
       "16  71359      7.1359         22.3       8          1.6   Darby Town    \n",
       "17 104923     10.4923         48.1      21          6.9   Downingtown   \n",
       "18 190317     19.0317         19.4      26          1.9   Doylestown    \n",
       "19 215512     21.5512         71.9      26          5.8   E. Bradford   \n",
       "20 178105     17.8105         45.1      25          2.3   E. Goshen     \n",
       "21 131025     13.1025         31.3      19         -1.8   E. Norriton   \n",
       "22 149844     14.9844         24.9      22          6.4   E. Pikeland   \n",
       "23 170556     17.0556         27.2      30          4.6   E. Whiteland  \n",
       "24 280969     28.0969         17.7      14          2.9   Easttown      \n",
       "25 114233     11.4233         29.0      30          1.3   Falls Town    \n",
       "26  74502      7.4502         21.4      15         -3.2   Follcroft     \n",
       "27 475112     47.5112         28.6      12           NA   Gladwyne      \n",
       "28  97167      9.7167         29.3      10          0.2   Glenolden     \n",
       "29 114572     11.4572         17.5      20          5.2   Hatboro       \n",
       "30 436348     43.6348         16.5      10         -0.7   Haverford     \n",
       "⋮  ⋮          ⋮               ⋮         ⋮          ⋮      ⋮             \n",
       "70 100231     10.0231         24.1      15          1.9   Ridley Town   \n",
       "71  95831      9.5831         21.2      32          3.2   Royersford    \n",
       "72 229711     22.9711          9.8      22          5.3   Schuylkill    \n",
       "73  74308      7.4308         29.9       7          1.8   Sharon Hill   \n",
       "74 259506     25.9506          7.2      40         17.4   Solebury      \n",
       "75 159573     15.9573         19.4      15         -2.1   Springfield   \n",
       "76 147176     14.7176         41.1      12         -1.7   Springfield   \n",
       "77 205732     20.5732         11.2      12         -0.2   Swarthmore    \n",
       "78 215783     21.5783         21.2      20          1.1   Tredyffin     \n",
       "79 116710     11.6710         42.8      20         12.9   U. Chichester \n",
       "80 359112     35.9112          9.4      36          4.0   U. Makefield  \n",
       "81 189959     18.9959         61.7      22         -2.1   U. Merion     \n",
       "82 133198     13.3198         19.4      22         -2.0   U. Moreland   \n",
       "83 242821     24.2821          6.6      21          1.6   U. Providence \n",
       "84 142811     14.2811         15.9      20         -1.6   U. Southampton\n",
       "85 200498     20.0498         18.8      36         11.0   U. Uwchlan    \n",
       "86 199065     19.9065         13.2      20          7.8   Upper Darby   \n",
       "87  93648      9.3648         34.5       8         -0.7   Upper Darby   \n",
       "88 163001     16.3001         22.1      50          8.0   Uwchlan T.    \n",
       "89 436348     43.6348         22.1      15          1.3   Villanova     \n",
       "90 124478     12.4478         71.9      22          4.6   W. Chester    \n",
       "91 168276     16.8276         31.9      26          5.9   W. Goshen     \n",
       "92 114157     11.4157         44.6      38         14.6   W. Whiteland  \n",
       "93 130088     13.0088         28.6      19         -0.2   Warminster    \n",
       "94 152624     15.2624         24.0      19         23.1   Warrington    \n",
       "95 174232     17.4232         13.8      25          4.7   Westtown      \n",
       "96 196515     19.6515         29.9      16          1.8   Whitemarsh    \n",
       "97 232714     23.2714          9.9      21          0.2   Willistown    \n",
       "98 245920     24.5920         22.6      10          0.3   Wynnewood     \n",
       "99 130953     13.0953         13.0      24          5.2   Yardley       \n",
       "   County  \n",
       "1  Montgome\n",
       "2  Montgome\n",
       "3  Delaware\n",
       "4  Bucks   \n",
       "5  Bucks   \n",
       "6  Bucks   \n",
       "7  Delaware\n",
       "8  Montgome\n",
       "9  Montgome\n",
       "10 Bucks   \n",
       "11 Bucks   \n",
       "12 Montgome\n",
       "13 Delaware\n",
       "14 Montgome\n",
       "15 Delaware\n",
       "16 Delaware\n",
       "17 Chester \n",
       "18 Bucks   \n",
       "19 Chester \n",
       "20 Chester \n",
       "21 Montgome\n",
       "22 Chester \n",
       "23 Chester \n",
       "24 Chester \n",
       "25 Bucks   \n",
       "26 Delaware\n",
       "27 Montgome\n",
       "28 Delaware\n",
       "29 Montgome\n",
       "30 Delaware\n",
       "⋮  ⋮       \n",
       "70 Delaware\n",
       "71 Montgome\n",
       "72 Chester \n",
       "73 Delaware\n",
       "74 Bucks   \n",
       "75 Montgome\n",
       "76 Delaware\n",
       "77 Delaware\n",
       "78 Chester \n",
       "79 Delaware\n",
       "80 Bucks   \n",
       "81 Montgome\n",
       "82 Montgome\n",
       "83 Delaware\n",
       "84 Bucks   \n",
       "85 Chester \n",
       "86 Montgome\n",
       "87 Delaware\n",
       "88 Chester \n",
       "89 Montgome\n",
       "90 Chester \n",
       "91 Chester \n",
       "92 Chester \n",
       "93 Bucks   \n",
       "94 Bucks   \n",
       "95 Chester \n",
       "96 Montgome\n",
       "97 Chester \n",
       "98 Montgome\n",
       "99 Bucks   "
      ]
     },
     "metadata": {},
     "output_type": "display_data"
    }
   ],
   "source": [
    "data"
   ]
  },
  {
   "cell_type": "code",
   "execution_count": 16,
   "metadata": {
    "collapsed": false
   },
   "outputs": [
    {
     "data": {
      "text/html": [
       "<ol class=list-inline>\n",
       "\t<li>'&lt;!DOCTYPE html&gt;'</li>\n",
       "\t<li>'&lt;html lang=\"en\"&gt;'</li>\n",
       "\t<li>''</li>\n",
       "\t<li>'&lt;head&gt;'</li>\n",
       "\t<li>'&lt;meta charset=\"utf-8\" /&gt;'</li>\n",
       "\t<li>'&lt;title&gt;Johns Hopkins Bloomberg School of Public Health&lt;/title&gt;'</li>\n",
       "</ol>\n"
      ],
      "text/latex": [
       "\\begin{enumerate*}\n",
       "\\item '<!DOCTYPE html>'\n",
       "\\item '<html lang=\"en\">'\n",
       "\\item ''\n",
       "\\item '<head>'\n",
       "\\item '<meta charset=\"utf-8\" />'\n",
       "\\item '<title>Johns Hopkins Bloomberg School of Public Health</title>'\n",
       "\\end{enumerate*}\n"
      ],
      "text/markdown": [
       "1. '&lt;!DOCTYPE html&gt;'\n",
       "2. '&lt;html lang=\"en\"&gt;'\n",
       "3. ''\n",
       "4. '&lt;head&gt;'\n",
       "5. '&lt;meta charset=\"utf-8\" /&gt;'\n",
       "6. '&lt;title&gt;Johns Hopkins Bloomberg School of Public Health&lt;/title&gt;'\n",
       "\n",
       "\n"
      ],
      "text/plain": [
       "[1] \"<!DOCTYPE html>\"                                               \n",
       "[2] \"<html lang=\\\"en\\\">\"                                            \n",
       "[3] \"\"                                                              \n",
       "[4] \"<head>\"                                                        \n",
       "[5] \"<meta charset=\\\"utf-8\\\" />\"                                    \n",
       "[6] \"<title>Johns Hopkins Bloomberg School of Public Health</title>\""
      ]
     },
     "metadata": {},
     "output_type": "display_data"
    }
   ],
   "source": [
    "con <- url(\"http://www.jhsph.edu\", \"r\")\n",
    "x <- readLines(con)\n",
    "head(x)"
   ]
  },
  {
   "cell_type": "code",
   "execution_count": 1,
   "metadata": {
    "collapsed": false
   },
   "outputs": [
    {
     "data": {
      "text/html": [
       "'numeric'"
      ],
      "text/latex": [
       "'numeric'"
      ],
      "text/markdown": [
       "'numeric'"
      ],
      "text/plain": [
       "[1] \"numeric\""
      ]
     },
     "metadata": {},
     "output_type": "display_data"
    }
   ],
   "source": [
    "x <- 4\n",
    "class(x)"
   ]
  },
  {
   "cell_type": "code",
   "execution_count": 3,
   "metadata": {
    "collapsed": false
   },
   "outputs": [
    {
     "data": {
      "text/html": [
       "'character'"
      ],
      "text/latex": [
       "'character'"
      ],
      "text/markdown": [
       "'character'"
      ],
      "text/plain": [
       "[1] \"character\""
      ]
     },
     "metadata": {},
     "output_type": "display_data"
    }
   ],
   "source": [
    "x <- c(4, \"a\", TRUE)\n",
    "class(x)"
   ]
  },
  {
   "cell_type": "code",
   "execution_count": 4,
   "metadata": {
    "collapsed": false
   },
   "outputs": [
    {
     "data": {
      "text/html": [
       "<table>\n",
       "<tbody>\n",
       "\t<tr><th scope=row>x</th><td>1 </td><td>3 </td><td> 5</td></tr>\n",
       "\t<tr><th scope=row>y</th><td>3 </td><td>2 </td><td>10</td></tr>\n",
       "</tbody>\n",
       "</table>\n"
      ],
      "text/latex": [
       "\\begin{tabular}{r|lll}\n",
       "\tx & 1  & 3  &  5\\\\\n",
       "\ty & 3  & 2  & 10\\\\\n",
       "\\end{tabular}\n"
      ],
      "text/markdown": [
       "\n",
       "| x | 1  | 3  |  5 | \n",
       "| y | 3  | 2  | 10 | \n",
       "\n",
       "\n"
      ],
      "text/plain": [
       "  [,1] [,2] [,3]\n",
       "x 1    3     5  \n",
       "y 3    2    10  "
      ]
     },
     "metadata": {},
     "output_type": "display_data"
    }
   ],
   "source": [
    "x <- c(1,3, 5)\n",
    "y <- c(3, 2, 10)\n",
    "rbind(x, y)"
   ]
  },
  {
   "cell_type": "code",
   "execution_count": 5,
   "metadata": {
    "collapsed": false
   },
   "outputs": [
    {
     "data": {
      "text/html": [
       "2"
      ],
      "text/latex": [
       "2"
      ],
      "text/markdown": [
       "2"
      ],
      "text/plain": [
       "[1] 2"
      ]
     },
     "metadata": {},
     "output_type": "display_data"
    }
   ],
   "source": [
    "x <- list(2, \"a\", \"b\", TRUE)\n",
    "x[[1]] "
   ]
  },
  {
   "cell_type": "code",
   "execution_count": 6,
   "metadata": {
    "collapsed": false
   },
   "outputs": [
    {
     "data": {
      "text/html": [
       "<ol class=list-inline>\n",
       "\t<li>3</li>\n",
       "\t<li>4</li>\n",
       "\t<li>5</li>\n",
       "\t<li>6</li>\n",
       "</ol>\n"
      ],
      "text/latex": [
       "\\begin{enumerate*}\n",
       "\\item 3\n",
       "\\item 4\n",
       "\\item 5\n",
       "\\item 6\n",
       "\\end{enumerate*}\n"
      ],
      "text/markdown": [
       "1. 3\n",
       "2. 4\n",
       "3. 5\n",
       "4. 6\n",
       "\n",
       "\n"
      ],
      "text/plain": [
       "[1] 3 4 5 6"
      ]
     },
     "metadata": {},
     "output_type": "display_data"
    }
   ],
   "source": [
    "x <- 1:4\n",
    "y <- 2\n",
    "x + y"
   ]
  },
  {
   "cell_type": "code",
   "execution_count": 8,
   "metadata": {
    "collapsed": false
   },
   "outputs": [
    {
     "data": {
      "text/html": [
       "<ol class=list-inline>\n",
       "\t<li>4</li>\n",
       "\t<li>4</li>\n",
       "\t<li>4</li>\n",
       "\t<li>5</li>\n",
       "\t<li>4</li>\n",
       "\t<li>4</li>\n",
       "\t<li>10</li>\n",
       "</ol>\n"
      ],
      "text/latex": [
       "\\begin{enumerate*}\n",
       "\\item 4\n",
       "\\item 4\n",
       "\\item 4\n",
       "\\item 5\n",
       "\\item 4\n",
       "\\item 4\n",
       "\\item 10\n",
       "\\end{enumerate*}\n"
      ],
      "text/markdown": [
       "1. 4\n",
       "2. 4\n",
       "3. 4\n",
       "4. 5\n",
       "5. 4\n",
       "6. 4\n",
       "7. 10\n",
       "\n",
       "\n"
      ],
      "text/plain": [
       "[1]  4  4  4  5  4  4 10"
      ]
     },
     "metadata": {},
     "output_type": "display_data"
    }
   ],
   "source": [
    "x <- c(17, 14, 4, 5, 13, 12, 10)\n",
    "x[x > 10] <- 4\n",
    "x"
   ]
  },
  {
   "cell_type": "code",
   "execution_count": 16,
   "metadata": {
    "collapsed": false
   },
   "outputs": [
    {
     "data": {
      "text/html": [
       "<ol class=list-inline>\n",
       "\t<li>17</li>\n",
       "\t<li>14</li>\n",
       "\t<li>4</li>\n",
       "\t<li>5</li>\n",
       "\t<li>13</li>\n",
       "\t<li>12</li>\n",
       "\t<li>4</li>\n",
       "</ol>\n"
      ],
      "text/latex": [
       "\\begin{enumerate*}\n",
       "\\item 17\n",
       "\\item 14\n",
       "\\item 4\n",
       "\\item 5\n",
       "\\item 13\n",
       "\\item 12\n",
       "\\item 4\n",
       "\\end{enumerate*}\n"
      ],
      "text/markdown": [
       "1. 17\n",
       "2. 14\n",
       "3. 4\n",
       "4. 5\n",
       "5. 13\n",
       "6. 12\n",
       "7. 4\n",
       "\n",
       "\n"
      ],
      "text/plain": [
       "[1] 17 14  4  5 13 12  4"
      ]
     },
     "metadata": {},
     "output_type": "display_data"
    }
   ],
   "source": [
    "x <- c(17, 14, 4, 5, 13, 12, 10)\n",
    "x[x == 10] <- 4\n",
    "x"
   ]
  },
  {
   "cell_type": "code",
   "execution_count": 18,
   "metadata": {
    "collapsed": false
   },
   "outputs": [
    {
     "data": {
      "text/html": [
       "<table>\n",
       "<thead><tr><th scope=col>Ozone</th><th scope=col>Solar.R</th><th scope=col>Wind</th><th scope=col>Temp</th><th scope=col>Month</th><th scope=col>Day</th></tr></thead>\n",
       "<tbody>\n",
       "\t<tr><td> 41 </td><td>190 </td><td> 7.4</td><td>67  </td><td>5   </td><td> 1  </td></tr>\n",
       "\t<tr><td> 36 </td><td>118 </td><td> 8.0</td><td>72  </td><td>5   </td><td> 2  </td></tr>\n",
       "\t<tr><td> 12 </td><td>149 </td><td>12.6</td><td>74  </td><td>5   </td><td> 3  </td></tr>\n",
       "\t<tr><td> 18 </td><td>313 </td><td>11.5</td><td>62  </td><td>5   </td><td> 4  </td></tr>\n",
       "\t<tr><td> NA </td><td> NA </td><td>14.3</td><td>56  </td><td>5   </td><td> 5  </td></tr>\n",
       "\t<tr><td> 28 </td><td> NA </td><td>14.9</td><td>66  </td><td>5   </td><td> 6  </td></tr>\n",
       "\t<tr><td> 23 </td><td>299 </td><td> 8.6</td><td>65  </td><td>5   </td><td> 7  </td></tr>\n",
       "\t<tr><td> 19 </td><td> 99 </td><td>13.8</td><td>59  </td><td>5   </td><td> 8  </td></tr>\n",
       "\t<tr><td>  8 </td><td> 19 </td><td>20.1</td><td>61  </td><td>5   </td><td> 9  </td></tr>\n",
       "\t<tr><td> NA </td><td>194 </td><td> 8.6</td><td>69  </td><td>5   </td><td>10  </td></tr>\n",
       "\t<tr><td>  7 </td><td> NA </td><td> 6.9</td><td>74  </td><td>5   </td><td>11  </td></tr>\n",
       "\t<tr><td> 16 </td><td>256 </td><td> 9.7</td><td>69  </td><td>5   </td><td>12  </td></tr>\n",
       "\t<tr><td> 11 </td><td>290 </td><td> 9.2</td><td>66  </td><td>5   </td><td>13  </td></tr>\n",
       "\t<tr><td> 14 </td><td>274 </td><td>10.9</td><td>68  </td><td>5   </td><td>14  </td></tr>\n",
       "\t<tr><td> 18 </td><td> 65 </td><td>13.2</td><td>58  </td><td>5   </td><td>15  </td></tr>\n",
       "\t<tr><td> 14 </td><td>334 </td><td>11.5</td><td>64  </td><td>5   </td><td>16  </td></tr>\n",
       "\t<tr><td> 34 </td><td>307 </td><td>12.0</td><td>66  </td><td>5   </td><td>17  </td></tr>\n",
       "\t<tr><td>  6 </td><td> 78 </td><td>18.4</td><td>57  </td><td>5   </td><td>18  </td></tr>\n",
       "\t<tr><td> 30 </td><td>322 </td><td>11.5</td><td>68  </td><td>5   </td><td>19  </td></tr>\n",
       "\t<tr><td> 11 </td><td> 44 </td><td> 9.7</td><td>62  </td><td>5   </td><td>20  </td></tr>\n",
       "\t<tr><td>  1 </td><td>  8 </td><td> 9.7</td><td>59  </td><td>5   </td><td>21  </td></tr>\n",
       "\t<tr><td> 11 </td><td>320 </td><td>16.6</td><td>73  </td><td>5   </td><td>22  </td></tr>\n",
       "\t<tr><td>  4 </td><td> 25 </td><td> 9.7</td><td>61  </td><td>5   </td><td>23  </td></tr>\n",
       "\t<tr><td> 32 </td><td> 92 </td><td>12.0</td><td>61  </td><td>5   </td><td>24  </td></tr>\n",
       "\t<tr><td> NA </td><td> 66 </td><td>16.6</td><td>57  </td><td>5   </td><td>25  </td></tr>\n",
       "\t<tr><td> NA </td><td>266 </td><td>14.9</td><td>58  </td><td>5   </td><td>26  </td></tr>\n",
       "\t<tr><td> NA </td><td> NA </td><td> 8.0</td><td>57  </td><td>5   </td><td>27  </td></tr>\n",
       "\t<tr><td> 23 </td><td> 13 </td><td>12.0</td><td>67  </td><td>5   </td><td>28  </td></tr>\n",
       "\t<tr><td> 45 </td><td>252 </td><td>14.9</td><td>81  </td><td>5   </td><td>29  </td></tr>\n",
       "\t<tr><td>115 </td><td>223 </td><td> 5.7</td><td>79  </td><td>5   </td><td>30  </td></tr>\n",
       "\t<tr><td>⋮</td><td>⋮</td><td>⋮</td><td>⋮</td><td>⋮</td><td>⋮</td></tr>\n",
       "\t<tr><td>96  </td><td>167 </td><td> 6.9</td><td>91  </td><td>9   </td><td> 1  </td></tr>\n",
       "\t<tr><td>78  </td><td>197 </td><td> 5.1</td><td>92  </td><td>9   </td><td> 2  </td></tr>\n",
       "\t<tr><td>73  </td><td>183 </td><td> 2.8</td><td>93  </td><td>9   </td><td> 3  </td></tr>\n",
       "\t<tr><td>91  </td><td>189 </td><td> 4.6</td><td>93  </td><td>9   </td><td> 4  </td></tr>\n",
       "\t<tr><td>47  </td><td> 95 </td><td> 7.4</td><td>87  </td><td>9   </td><td> 5  </td></tr>\n",
       "\t<tr><td>32  </td><td> 92 </td><td>15.5</td><td>84  </td><td>9   </td><td> 6  </td></tr>\n",
       "\t<tr><td>20  </td><td>252 </td><td>10.9</td><td>80  </td><td>9   </td><td> 7  </td></tr>\n",
       "\t<tr><td>23  </td><td>220 </td><td>10.3</td><td>78  </td><td>9   </td><td> 8  </td></tr>\n",
       "\t<tr><td>21  </td><td>230 </td><td>10.9</td><td>75  </td><td>9   </td><td> 9  </td></tr>\n",
       "\t<tr><td>24  </td><td>259 </td><td> 9.7</td><td>73  </td><td>9   </td><td>10  </td></tr>\n",
       "\t<tr><td>44  </td><td>236 </td><td>14.9</td><td>81  </td><td>9   </td><td>11  </td></tr>\n",
       "\t<tr><td>21  </td><td>259 </td><td>15.5</td><td>76  </td><td>9   </td><td>12  </td></tr>\n",
       "\t<tr><td>28  </td><td>238 </td><td> 6.3</td><td>77  </td><td>9   </td><td>13  </td></tr>\n",
       "\t<tr><td> 9  </td><td> 24 </td><td>10.9</td><td>71  </td><td>9   </td><td>14  </td></tr>\n",
       "\t<tr><td>13  </td><td>112 </td><td>11.5</td><td>71  </td><td>9   </td><td>15  </td></tr>\n",
       "\t<tr><td>46  </td><td>237 </td><td> 6.9</td><td>78  </td><td>9   </td><td>16  </td></tr>\n",
       "\t<tr><td>18  </td><td>224 </td><td>13.8</td><td>67  </td><td>9   </td><td>17  </td></tr>\n",
       "\t<tr><td>13  </td><td> 27 </td><td>10.3</td><td>76  </td><td>9   </td><td>18  </td></tr>\n",
       "\t<tr><td>24  </td><td>238 </td><td>10.3</td><td>68  </td><td>9   </td><td>19  </td></tr>\n",
       "\t<tr><td>16  </td><td>201 </td><td> 8.0</td><td>82  </td><td>9   </td><td>20  </td></tr>\n",
       "\t<tr><td>13  </td><td>238 </td><td>12.6</td><td>64  </td><td>9   </td><td>21  </td></tr>\n",
       "\t<tr><td>23  </td><td> 14 </td><td> 9.2</td><td>71  </td><td>9   </td><td>22  </td></tr>\n",
       "\t<tr><td>36  </td><td>139 </td><td>10.3</td><td>81  </td><td>9   </td><td>23  </td></tr>\n",
       "\t<tr><td> 7  </td><td> 49 </td><td>10.3</td><td>69  </td><td>9   </td><td>24  </td></tr>\n",
       "\t<tr><td>14  </td><td> 20 </td><td>16.6</td><td>63  </td><td>9   </td><td>25  </td></tr>\n",
       "\t<tr><td>30  </td><td>193 </td><td> 6.9</td><td>70  </td><td>9   </td><td>26  </td></tr>\n",
       "\t<tr><td>NA  </td><td>145 </td><td>13.2</td><td>77  </td><td>9   </td><td>27  </td></tr>\n",
       "\t<tr><td>14  </td><td>191 </td><td>14.3</td><td>75  </td><td>9   </td><td>28  </td></tr>\n",
       "\t<tr><td>18  </td><td>131 </td><td> 8.0</td><td>76  </td><td>9   </td><td>29  </td></tr>\n",
       "\t<tr><td>20  </td><td>223 </td><td>11.5</td><td>68  </td><td>9   </td><td>30  </td></tr>\n",
       "</tbody>\n",
       "</table>\n"
      ],
      "text/latex": [
       "\\begin{tabular}{r|llllll}\n",
       " Ozone & Solar.R & Wind & Temp & Month & Day\\\\\n",
       "\\hline\n",
       "\t  41  & 190  &  7.4 & 67   & 5    &  1  \\\\\n",
       "\t  36  & 118  &  8.0 & 72   & 5    &  2  \\\\\n",
       "\t  12  & 149  & 12.6 & 74   & 5    &  3  \\\\\n",
       "\t  18  & 313  & 11.5 & 62   & 5    &  4  \\\\\n",
       "\t  NA  &  NA  & 14.3 & 56   & 5    &  5  \\\\\n",
       "\t  28  &  NA  & 14.9 & 66   & 5    &  6  \\\\\n",
       "\t  23  & 299  &  8.6 & 65   & 5    &  7  \\\\\n",
       "\t  19  &  99  & 13.8 & 59   & 5    &  8  \\\\\n",
       "\t   8  &  19  & 20.1 & 61   & 5    &  9  \\\\\n",
       "\t  NA  & 194  &  8.6 & 69   & 5    & 10  \\\\\n",
       "\t   7  &  NA  &  6.9 & 74   & 5    & 11  \\\\\n",
       "\t  16  & 256  &  9.7 & 69   & 5    & 12  \\\\\n",
       "\t  11  & 290  &  9.2 & 66   & 5    & 13  \\\\\n",
       "\t  14  & 274  & 10.9 & 68   & 5    & 14  \\\\\n",
       "\t  18  &  65  & 13.2 & 58   & 5    & 15  \\\\\n",
       "\t  14  & 334  & 11.5 & 64   & 5    & 16  \\\\\n",
       "\t  34  & 307  & 12.0 & 66   & 5    & 17  \\\\\n",
       "\t   6  &  78  & 18.4 & 57   & 5    & 18  \\\\\n",
       "\t  30  & 322  & 11.5 & 68   & 5    & 19  \\\\\n",
       "\t  11  &  44  &  9.7 & 62   & 5    & 20  \\\\\n",
       "\t   1  &   8  &  9.7 & 59   & 5    & 21  \\\\\n",
       "\t  11  & 320  & 16.6 & 73   & 5    & 22  \\\\\n",
       "\t   4  &  25  &  9.7 & 61   & 5    & 23  \\\\\n",
       "\t  32  &  92  & 12.0 & 61   & 5    & 24  \\\\\n",
       "\t  NA  &  66  & 16.6 & 57   & 5    & 25  \\\\\n",
       "\t  NA  & 266  & 14.9 & 58   & 5    & 26  \\\\\n",
       "\t  NA  &  NA  &  8.0 & 57   & 5    & 27  \\\\\n",
       "\t  23  &  13  & 12.0 & 67   & 5    & 28  \\\\\n",
       "\t  45  & 252  & 14.9 & 81   & 5    & 29  \\\\\n",
       "\t 115  & 223  &  5.7 & 79   & 5    & 30  \\\\\n",
       "\t ⋮ & ⋮ & ⋮ & ⋮ & ⋮ & ⋮\\\\\n",
       "\t 96   & 167  &  6.9 & 91   & 9    &  1  \\\\\n",
       "\t 78   & 197  &  5.1 & 92   & 9    &  2  \\\\\n",
       "\t 73   & 183  &  2.8 & 93   & 9    &  3  \\\\\n",
       "\t 91   & 189  &  4.6 & 93   & 9    &  4  \\\\\n",
       "\t 47   &  95  &  7.4 & 87   & 9    &  5  \\\\\n",
       "\t 32   &  92  & 15.5 & 84   & 9    &  6  \\\\\n",
       "\t 20   & 252  & 10.9 & 80   & 9    &  7  \\\\\n",
       "\t 23   & 220  & 10.3 & 78   & 9    &  8  \\\\\n",
       "\t 21   & 230  & 10.9 & 75   & 9    &  9  \\\\\n",
       "\t 24   & 259  &  9.7 & 73   & 9    & 10  \\\\\n",
       "\t 44   & 236  & 14.9 & 81   & 9    & 11  \\\\\n",
       "\t 21   & 259  & 15.5 & 76   & 9    & 12  \\\\\n",
       "\t 28   & 238  &  6.3 & 77   & 9    & 13  \\\\\n",
       "\t  9   &  24  & 10.9 & 71   & 9    & 14  \\\\\n",
       "\t 13   & 112  & 11.5 & 71   & 9    & 15  \\\\\n",
       "\t 46   & 237  &  6.9 & 78   & 9    & 16  \\\\\n",
       "\t 18   & 224  & 13.8 & 67   & 9    & 17  \\\\\n",
       "\t 13   &  27  & 10.3 & 76   & 9    & 18  \\\\\n",
       "\t 24   & 238  & 10.3 & 68   & 9    & 19  \\\\\n",
       "\t 16   & 201  &  8.0 & 82   & 9    & 20  \\\\\n",
       "\t 13   & 238  & 12.6 & 64   & 9    & 21  \\\\\n",
       "\t 23   &  14  &  9.2 & 71   & 9    & 22  \\\\\n",
       "\t 36   & 139  & 10.3 & 81   & 9    & 23  \\\\\n",
       "\t  7   &  49  & 10.3 & 69   & 9    & 24  \\\\\n",
       "\t 14   &  20  & 16.6 & 63   & 9    & 25  \\\\\n",
       "\t 30   & 193  &  6.9 & 70   & 9    & 26  \\\\\n",
       "\t NA   & 145  & 13.2 & 77   & 9    & 27  \\\\\n",
       "\t 14   & 191  & 14.3 & 75   & 9    & 28  \\\\\n",
       "\t 18   & 131  &  8.0 & 76   & 9    & 29  \\\\\n",
       "\t 20   & 223  & 11.5 & 68   & 9    & 30  \\\\\n",
       "\\end{tabular}\n"
      ],
      "text/markdown": [
       "\n",
       "Ozone | Solar.R | Wind | Temp | Month | Day | \n",
       "|---|---|---|---|---|---|---|---|---|---|---|---|---|---|---|---|---|---|---|---|---|---|---|---|---|---|---|---|---|---|---|---|---|---|---|---|---|---|---|---|---|---|---|---|---|---|---|---|---|---|---|---|---|---|---|---|---|---|---|---|---|\n",
       "|  41  | 190  |  7.4 | 67   | 5    |  1   | \n",
       "|  36  | 118  |  8.0 | 72   | 5    |  2   | \n",
       "|  12  | 149  | 12.6 | 74   | 5    |  3   | \n",
       "|  18  | 313  | 11.5 | 62   | 5    |  4   | \n",
       "|  NA  |  NA  | 14.3 | 56   | 5    |  5   | \n",
       "|  28  |  NA  | 14.9 | 66   | 5    |  6   | \n",
       "|  23  | 299  |  8.6 | 65   | 5    |  7   | \n",
       "|  19  |  99  | 13.8 | 59   | 5    |  8   | \n",
       "|   8  |  19  | 20.1 | 61   | 5    |  9   | \n",
       "|  NA  | 194  |  8.6 | 69   | 5    | 10   | \n",
       "|   7  |  NA  |  6.9 | 74   | 5    | 11   | \n",
       "|  16  | 256  |  9.7 | 69   | 5    | 12   | \n",
       "|  11  | 290  |  9.2 | 66   | 5    | 13   | \n",
       "|  14  | 274  | 10.9 | 68   | 5    | 14   | \n",
       "|  18  |  65  | 13.2 | 58   | 5    | 15   | \n",
       "|  14  | 334  | 11.5 | 64   | 5    | 16   | \n",
       "|  34  | 307  | 12.0 | 66   | 5    | 17   | \n",
       "|   6  |  78  | 18.4 | 57   | 5    | 18   | \n",
       "|  30  | 322  | 11.5 | 68   | 5    | 19   | \n",
       "|  11  |  44  |  9.7 | 62   | 5    | 20   | \n",
       "|   1  |   8  |  9.7 | 59   | 5    | 21   | \n",
       "|  11  | 320  | 16.6 | 73   | 5    | 22   | \n",
       "|   4  |  25  |  9.7 | 61   | 5    | 23   | \n",
       "|  32  |  92  | 12.0 | 61   | 5    | 24   | \n",
       "|  NA  |  66  | 16.6 | 57   | 5    | 25   | \n",
       "|  NA  | 266  | 14.9 | 58   | 5    | 26   | \n",
       "|  NA  |  NA  |  8.0 | 57   | 5    | 27   | \n",
       "|  23  |  13  | 12.0 | 67   | 5    | 28   | \n",
       "|  45  | 252  | 14.9 | 81   | 5    | 29   | \n",
       "| 115  | 223  |  5.7 | 79   | 5    | 30   | \n",
       "| ⋮ | ⋮ | ⋮ | ⋮ | ⋮ | ⋮ | \n",
       "| 96   | 167  |  6.9 | 91   | 9    |  1   | \n",
       "| 78   | 197  |  5.1 | 92   | 9    |  2   | \n",
       "| 73   | 183  |  2.8 | 93   | 9    |  3   | \n",
       "| 91   | 189  |  4.6 | 93   | 9    |  4   | \n",
       "| 47   |  95  |  7.4 | 87   | 9    |  5   | \n",
       "| 32   |  92  | 15.5 | 84   | 9    |  6   | \n",
       "| 20   | 252  | 10.9 | 80   | 9    |  7   | \n",
       "| 23   | 220  | 10.3 | 78   | 9    |  8   | \n",
       "| 21   | 230  | 10.9 | 75   | 9    |  9   | \n",
       "| 24   | 259  |  9.7 | 73   | 9    | 10   | \n",
       "| 44   | 236  | 14.9 | 81   | 9    | 11   | \n",
       "| 21   | 259  | 15.5 | 76   | 9    | 12   | \n",
       "| 28   | 238  |  6.3 | 77   | 9    | 13   | \n",
       "|  9   |  24  | 10.9 | 71   | 9    | 14   | \n",
       "| 13   | 112  | 11.5 | 71   | 9    | 15   | \n",
       "| 46   | 237  |  6.9 | 78   | 9    | 16   | \n",
       "| 18   | 224  | 13.8 | 67   | 9    | 17   | \n",
       "| 13   |  27  | 10.3 | 76   | 9    | 18   | \n",
       "| 24   | 238  | 10.3 | 68   | 9    | 19   | \n",
       "| 16   | 201  |  8.0 | 82   | 9    | 20   | \n",
       "| 13   | 238  | 12.6 | 64   | 9    | 21   | \n",
       "| 23   |  14  |  9.2 | 71   | 9    | 22   | \n",
       "| 36   | 139  | 10.3 | 81   | 9    | 23   | \n",
       "|  7   |  49  | 10.3 | 69   | 9    | 24   | \n",
       "| 14   |  20  | 16.6 | 63   | 9    | 25   | \n",
       "| 30   | 193  |  6.9 | 70   | 9    | 26   | \n",
       "| NA   | 145  | 13.2 | 77   | 9    | 27   | \n",
       "| 14   | 191  | 14.3 | 75   | 9    | 28   | \n",
       "| 18   | 131  |  8.0 | 76   | 9    | 29   | \n",
       "| 20   | 223  | 11.5 | 68   | 9    | 30   | \n",
       "\n",
       "\n"
      ],
      "text/plain": [
       "    Ozone Solar.R Wind Temp Month Day\n",
       "1    41   190      7.4 67   5      1 \n",
       "2    36   118      8.0 72   5      2 \n",
       "3    12   149     12.6 74   5      3 \n",
       "4    18   313     11.5 62   5      4 \n",
       "5    NA    NA     14.3 56   5      5 \n",
       "6    28    NA     14.9 66   5      6 \n",
       "7    23   299      8.6 65   5      7 \n",
       "8    19    99     13.8 59   5      8 \n",
       "9     8    19     20.1 61   5      9 \n",
       "10   NA   194      8.6 69   5     10 \n",
       "11    7    NA      6.9 74   5     11 \n",
       "12   16   256      9.7 69   5     12 \n",
       "13   11   290      9.2 66   5     13 \n",
       "14   14   274     10.9 68   5     14 \n",
       "15   18    65     13.2 58   5     15 \n",
       "16   14   334     11.5 64   5     16 \n",
       "17   34   307     12.0 66   5     17 \n",
       "18    6    78     18.4 57   5     18 \n",
       "19   30   322     11.5 68   5     19 \n",
       "20   11    44      9.7 62   5     20 \n",
       "21    1     8      9.7 59   5     21 \n",
       "22   11   320     16.6 73   5     22 \n",
       "23    4    25      9.7 61   5     23 \n",
       "24   32    92     12.0 61   5     24 \n",
       "25   NA    66     16.6 57   5     25 \n",
       "26   NA   266     14.9 58   5     26 \n",
       "27   NA    NA      8.0 57   5     27 \n",
       "28   23    13     12.0 67   5     28 \n",
       "29   45   252     14.9 81   5     29 \n",
       "30  115   223      5.7 79   5     30 \n",
       "⋮   ⋮     ⋮       ⋮    ⋮    ⋮     ⋮  \n",
       "124 96    167      6.9 91   9      1 \n",
       "125 78    197      5.1 92   9      2 \n",
       "126 73    183      2.8 93   9      3 \n",
       "127 91    189      4.6 93   9      4 \n",
       "128 47     95      7.4 87   9      5 \n",
       "129 32     92     15.5 84   9      6 \n",
       "130 20    252     10.9 80   9      7 \n",
       "131 23    220     10.3 78   9      8 \n",
       "132 21    230     10.9 75   9      9 \n",
       "133 24    259      9.7 73   9     10 \n",
       "134 44    236     14.9 81   9     11 \n",
       "135 21    259     15.5 76   9     12 \n",
       "136 28    238      6.3 77   9     13 \n",
       "137  9     24     10.9 71   9     14 \n",
       "138 13    112     11.5 71   9     15 \n",
       "139 46    237      6.9 78   9     16 \n",
       "140 18    224     13.8 67   9     17 \n",
       "141 13     27     10.3 76   9     18 \n",
       "142 24    238     10.3 68   9     19 \n",
       "143 16    201      8.0 82   9     20 \n",
       "144 13    238     12.6 64   9     21 \n",
       "145 23     14      9.2 71   9     22 \n",
       "146 36    139     10.3 81   9     23 \n",
       "147  7     49     10.3 69   9     24 \n",
       "148 14     20     16.6 63   9     25 \n",
       "149 30    193      6.9 70   9     26 \n",
       "150 NA    145     13.2 77   9     27 \n",
       "151 14    191     14.3 75   9     28 \n",
       "152 18    131      8.0 76   9     29 \n",
       "153 20    223     11.5 68   9     30 "
      ]
     },
     "metadata": {},
     "output_type": "display_data"
    }
   ],
   "source": [
    "hw1 = read.csv(\"hw1_data.csv\")\n",
    "hw1"
   ]
  },
  {
   "cell_type": "code",
   "execution_count": 20,
   "metadata": {
    "collapsed": false
   },
   "outputs": [
    {
     "data": {
      "text/html": [
       "153"
      ],
      "text/latex": [
       "153"
      ],
      "text/markdown": [
       "153"
      ],
      "text/plain": [
       "[1] 153"
      ]
     },
     "metadata": {},
     "output_type": "display_data"
    }
   ],
   "source": [
    "length(count.fields(\"hw1_data.csv\", skip = 1))"
   ]
  },
  {
   "cell_type": "code",
   "execution_count": 24,
   "metadata": {
    "collapsed": false
   },
   "outputs": [
    {
     "data": {
      "text/html": [
       "<table>\n",
       "<thead><tr><th></th><th scope=col>Ozone</th><th scope=col>Solar.R</th><th scope=col>Wind</th><th scope=col>Temp</th><th scope=col>Month</th><th scope=col>Day</th></tr></thead>\n",
       "<tbody>\n",
       "\t<tr><th scope=row>152</th><td>18  </td><td>131 </td><td> 8.0</td><td>76  </td><td>9   </td><td>29  </td></tr>\n",
       "\t<tr><th scope=row>153</th><td>20  </td><td>223 </td><td>11.5</td><td>68  </td><td>9   </td><td>30  </td></tr>\n",
       "</tbody>\n",
       "</table>\n"
      ],
      "text/latex": [
       "\\begin{tabular}{r|llllll}\n",
       "  & Ozone & Solar.R & Wind & Temp & Month & Day\\\\\n",
       "\\hline\n",
       "\t152 & 18   & 131  &  8.0 & 76   & 9    & 29  \\\\\n",
       "\t153 & 20   & 223  & 11.5 & 68   & 9    & 30  \\\\\n",
       "\\end{tabular}\n"
      ],
      "text/markdown": [
       "\n",
       "| <!--/--> | Ozone | Solar.R | Wind | Temp | Month | Day | \n",
       "|---|---|\n",
       "| 152 | 18   | 131  |  8.0 | 76   | 9    | 29   | \n",
       "| 153 | 20   | 223  | 11.5 | 68   | 9    | 30   | \n",
       "\n",
       "\n"
      ],
      "text/plain": [
       "    Ozone Solar.R Wind Temp Month Day\n",
       "152 18    131      8.0 76   9     29 \n",
       "153 20    223     11.5 68   9     30 "
      ]
     },
     "metadata": {},
     "output_type": "display_data"
    }
   ],
   "source": [
    "tail(hw1,n=2)"
   ]
  },
  {
   "cell_type": "code",
   "execution_count": 25,
   "metadata": {
    "collapsed": false
   },
   "outputs": [
    {
     "data": {
      "text/html": [
       "21"
      ],
      "text/latex": [
       "21"
      ],
      "text/markdown": [
       "21"
      ],
      "text/plain": [
       "[1] 21"
      ]
     },
     "metadata": {},
     "output_type": "display_data"
    }
   ],
   "source": [
    "hw1$Ozone[47]"
   ]
  },
  {
   "cell_type": "code",
   "execution_count": 26,
   "metadata": {
    "collapsed": false
   },
   "outputs": [
    {
     "data": {
      "text/html": [
       "37"
      ],
      "text/latex": [
       "37"
      ],
      "text/markdown": [
       "37"
      ],
      "text/plain": [
       "[1] 37"
      ]
     },
     "metadata": {},
     "output_type": "display_data"
    }
   ],
   "source": [
    "sum(is.na(hw1$Ozone))"
   ]
  },
  {
   "cell_type": "code",
   "execution_count": 27,
   "metadata": {
    "collapsed": false
   },
   "outputs": [
    {
     "data": {
      "text/html": [
       "42.1293103448276"
      ],
      "text/latex": [
       "42.1293103448276"
      ],
      "text/markdown": [
       "42.1293103448276"
      ],
      "text/plain": [
       "[1] 42.12931"
      ]
     },
     "metadata": {},
     "output_type": "display_data"
    }
   ],
   "source": [
    "mean(hw1$Ozone,na.rm =T)"
   ]
  },
  {
   "cell_type": "code",
   "execution_count": 28,
   "metadata": {
    "collapsed": false
   },
   "outputs": [
    {
     "data": {
      "text/html": [
       "212.8"
      ],
      "text/latex": [
       "212.8"
      ],
      "text/markdown": [
       "212.8"
      ],
      "text/plain": [
       "[1] 212.8"
      ]
     },
     "metadata": {},
     "output_type": "display_data"
    }
   ],
   "source": [
    "logVec <- hw1$Temp > 90 & hw1$Ozone > 31\n",
    "mean(hw1$Solar.R[logVec],na.rm=T)"
   ]
  },
  {
   "cell_type": "code",
   "execution_count": 29,
   "metadata": {
    "collapsed": false
   },
   "outputs": [
    {
     "data": {
      "text/html": [
       "79.1"
      ],
      "text/latex": [
       "79.1"
      ],
      "text/markdown": [
       "79.1"
      ],
      "text/plain": [
       "[1] 79.1"
      ]
     },
     "metadata": {},
     "output_type": "display_data"
    }
   ],
   "source": [
    "mean(hw1$Temp[hw1$Month == 6])"
   ]
  },
  {
   "cell_type": "code",
   "execution_count": 30,
   "metadata": {
    "collapsed": false
   },
   "outputs": [
    {
     "data": {
      "text/html": [
       "115"
      ],
      "text/latex": [
       "115"
      ],
      "text/markdown": [
       "115"
      ],
      "text/plain": [
       "[1] 115"
      ]
     },
     "metadata": {},
     "output_type": "display_data"
    }
   ],
   "source": [
    "max(hw1$Ozone[hw1$Month == 5],na.rm=T)"
   ]
  },
  {
   "cell_type": "code",
   "execution_count": null,
   "metadata": {
    "collapsed": true
   },
   "outputs": [],
   "source": []
  }
 ],
 "metadata": {
  "kernelspec": {
   "display_name": "R",
   "language": "R",
   "name": "ir"
  },
  "language_info": {
   "codemirror_mode": "r",
   "file_extension": ".r",
   "mimetype": "text/x-r-source",
   "name": "R",
   "pygments_lexer": "r",
   "version": "3.3.2"
  }
 },
 "nbformat": 4,
 "nbformat_minor": 2
}
