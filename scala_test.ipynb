{
 "cells": [
  {
   "cell_type": "code",
   "execution_count": 15,
   "metadata": {
    "collapsed": false
   },
   "outputs": [
    {
     "data": {
      "text/plain": [
       "defined \u001b[32mtrait\u001b[39m \u001b[36mColor\u001b[39m\n",
       "defined \u001b[32mclass\u001b[39m \u001b[36mRed\u001b[39m\n",
       "defined \u001b[32mclass\u001b[39m \u001b[36mBlue\u001b[39m\n",
       "\u001b[36mred\u001b[39m: \u001b[32mRed\u001b[39m = $sess.cmd14Wrapper$Helper$Red@240e0ac8\n",
       "\u001b[36mblue\u001b[39m: \u001b[32mBlue\u001b[39m = $sess.cmd14Wrapper$Helper$Blue@7c756f0d\n",
       "\u001b[36mres14_5\u001b[39m: \u001b[32mBoolean\u001b[39m = \u001b[32mtrue\u001b[39m\n",
       "\u001b[36mres14_6\u001b[39m: \u001b[32mBoolean\u001b[39m = \u001b[32mfalse\u001b[39m"
      ]
     },
     "execution_count": 15,
     "metadata": {},
     "output_type": "execute_result"
    }
   ],
   "source": [
    "trait Color {\n",
    "    def isRed(): Boolean\n",
    "}\n",
    "class Red extends Color {\n",
    "    def isRed() = true\n",
    "}\n",
    "class Blue extends Color {\n",
    "    def isRed() = false\n",
    "}\n",
    "var red = new Red();\n",
    "var blue = new Blue();\n",
    "red.isRed()\n",
    "blue.isRed()"
   ]
  },
  {
   "cell_type": "code",
   "execution_count": null,
   "metadata": {
    "collapsed": true
   },
   "outputs": [],
   "source": []
  }
 ],
 "metadata": {
  "kernelspec": {
   "display_name": "Scala",
   "language": "scala",
   "name": "scala"
  },
  "language_info": {
   "codemirror_mode": "text/x-scala",
   "file_extension": ".scala",
   "mimetype": "text/x-scala",
   "name": "scala211",
   "nbconvert_exporter": "scala",
   "pygments_lexer": "scala",
   "version": "2.11.8"
  }
 },
 "nbformat": 4,
 "nbformat_minor": 2
}
