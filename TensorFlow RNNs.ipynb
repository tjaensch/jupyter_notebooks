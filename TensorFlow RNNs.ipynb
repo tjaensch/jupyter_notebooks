{
 "cells": [
  {
   "cell_type": "code",
   "execution_count": 1,
   "metadata": {
    "collapsed": true
   },
   "outputs": [],
   "source": [
    "# https://www.packtpub.com/mapt/book/big_data_and_business_intelligence/9781787282773/4/ch04lvl1sec32/exploring-rnns"
   ]
  },
  {
   "cell_type": "code",
   "execution_count": 2,
   "metadata": {
    "collapsed": true
   },
   "outputs": [],
   "source": [
    "import tensorflow as tf\n",
    "import numpy as np\n",
    "import datetime\n",
    "import math"
   ]
  },
  {
   "cell_type": "code",
   "execution_count": 3,
   "metadata": {
    "collapsed": true
   },
   "outputs": [],
   "source": [
    "try:\n",
    "    from tqdm import tqdm\n",
    "except ImportError:\n",
    "    def tqdm(x, *args, **kwargs):\n",
    "        return x"
   ]
  },
  {
   "cell_type": "code",
   "execution_count": 6,
   "metadata": {
    "collapsed": false
   },
   "outputs": [],
   "source": [
    "# read in data\n",
    "filename = 'weather.npz'\n",
    "data = np.load(filename)\n",
    "daily = data['daily']\n",
    "weekly = data['weekly']\n",
    "\n",
    "num_weeks = len(weekly)\n",
    "dates = np.array([datetime.datetime.strptime(str(int(d)),\n",
    "                '%Y%m%d') for d in weekly[:,0]])"
   ]
  },
  {
   "cell_type": "code",
   "execution_count": 7,
   "metadata": {
    "collapsed": true
   },
   "outputs": [],
   "source": [
    "def assign_season(date):\n",
    "    ''' Assign season based on meteorological season.\n",
    "        Spring - from Mar 1 to May 31\n",
    "        Summer - from Jun 1 to Aug 31\n",
    "        Autumn - from Sep 1 to Nov 30\n",
    "        Winter - from Dec 1 to Feb 28 (Feb 29 in a leap year)\n",
    "    '''\n",
    "    month = date.month\n",
    "    # spring = 0\n",
    "    if 3 <= month < 6:\n",
    "        season = 0\n",
    "    # summer = 1\n",
    "    elif 6 <= month < 9:\n",
    "        season = 1\n",
    "    # autumn = 2\n",
    "    elif 9 <= month < 12:\n",
    "        season = 2\n",
    "    # winter = 3\n",
    "    elif month == 12 or month < 3:\n",
    "        season = 3\n",
    "    return season"
   ]
  },
  {
   "cell_type": "code",
   "execution_count": 8,
   "metadata": {
    "collapsed": true
   },
   "outputs": [],
   "source": [
    "# There are 4 seasons\n",
    "num_classes = 4\n",
    "\n",
    "# and 5 variables\n",
    "num_inputs = 5\n",
    "\n",
    "# And a state of 11 numbers\n",
    "state_size = 11"
   ]
  },
  {
   "cell_type": "code",
   "execution_count": 9,
   "metadata": {
    "collapsed": true
   },
   "outputs": [],
   "source": [
    "labels = np.zeros([num_weeks,num_classes])\n",
    "# read and convert to one-hot\n",
    "for i,d in enumerate(dates):\n",
    "    labels[i,assign_season(d)] = 1"
   ]
  },
  {
   "cell_type": "code",
   "execution_count": 10,
   "metadata": {
    "collapsed": true
   },
   "outputs": [],
   "source": [
    "# extract and scale training data\n",
    "train = weekly[:,1:]\n",
    "train = train - np.average(train,axis=0)\n",
    "train = train / train.std(axis=0)"
   ]
  },
  {
   "cell_type": "code",
   "execution_count": 20,
   "metadata": {
    "collapsed": false
   },
   "outputs": [],
   "source": [
    "# Startup TensorFlow\n",
    "sess = tf.InteractiveSession()\n",
    "\n",
    "# These will be inputs\n",
    "x = tf.placeholder(\"float\", [None, num_inputs])\n",
    "# TF likes a funky input to RNN\n",
    "x_ = tf.reshape(x, [1, num_weeks, num_inputs])\n",
    "\n",
    "## Known labels\n",
    "# None works during variable creation to be\n",
    "# unspecified size\n",
    "y_ = tf.placeholder(\"float\", [None,num_classes])\n",
    "\n",
    "cell = tf.nn.rnn_cell.BasicRNNCell(state_size)\n",
    "outputs, states = tf.nn.dynamic_rnn(cell,x_,\n",
    "            dtype=tf.float32, initial_state=None)\n",
    "\n",
    "W1 = tf.Variable(tf.truncated_normal([state_size,num_classes],\n",
    "                          stddev=1./math.sqrt(num_inputs)))\n",
    "b1 = tf.Variable(tf.constant(0.1,shape=[num_classes]))"
   ]
  },
  {
   "cell_type": "code",
   "execution_count": 21,
   "metadata": {
    "collapsed": true
   },
   "outputs": [],
   "source": [
    "# reshape the output for traditional usage\n",
    "h1 = tf.reshape(outputs,[-1,state_size])"
   ]
  },
  {
   "cell_type": "code",
   "execution_count": 23,
   "metadata": {
    "collapsed": false
   },
   "outputs": [],
   "source": [
    "# Just initialize\n",
    "sess.run(tf.global_variables_initializer())"
   ]
  },
  {
   "cell_type": "code",
   "execution_count": 24,
   "metadata": {
    "collapsed": true
   },
   "outputs": [],
   "source": [
    "# Logistic regression as usual\n",
    "y = tf.nn.softmax(tf.matmul(h1, W1) + b1)"
   ]
  },
  {
   "cell_type": "code",
   "execution_count": 26,
   "metadata": {
    "collapsed": false
   },
   "outputs": [],
   "source": [
    "# Climb on cross-entropy\n",
    "cross_entropy = tf.reduce_mean(\n",
    "     tf.nn.softmax_cross_entropy_with_logits(logits=y + 1e-50, labels=y_))"
   ]
  },
  {
   "cell_type": "code",
   "execution_count": 27,
   "metadata": {
    "collapsed": true
   },
   "outputs": [],
   "source": [
    "# How we train\n",
    "train_step = tf.train.GradientDescentOptimizer(0.01\n",
    "                    ).minimize(cross_entropy)"
   ]
  },
  {
   "cell_type": "code",
   "execution_count": 28,
   "metadata": {
    "collapsed": true
   },
   "outputs": [],
   "source": [
    "# Define accuracy\n",
    "correct_prediction = tf.equal(tf.argmax(y,1),tf.argmax(y_,1))\n",
    "accuracy=tf.reduce_mean(tf.cast(correct_prediction, \"float\"))"
   ]
  },
  {
   "cell_type": "code",
   "execution_count": 29,
   "metadata": {
    "collapsed": false
   },
   "outputs": [
    {
     "data": {
      "text/plain": [
       "[<matplotlib.lines.Line2D at 0x11d1e1a90>]"
      ]
     },
     "execution_count": 29,
     "metadata": {},
     "output_type": "execute_result"
    },
    {
     "data": {
      "image/png": "[encoded data removed]",
      "text/plain": [
       "<matplotlib.figure.Figure at 0x11c91d890>"
      ]
     },
     "metadata": {},
     "output_type": "display_data"
    }
   ],
   "source": [
    "# Actually train\n",
    "epochs = 100\n",
    "train_acc = np.zeros(epochs//10)\n",
    "for i in tqdm(range(epochs), ascii=True):\n",
    "    if i % 10 == 0:  # Record summary data, and the accuracy\n",
    "        # Check accuracy on train set\n",
    "        A = accuracy.eval(feed_dict={x: train, y_: labels})\n",
    "        train_acc[i//10] = A\n",
    "    train_step.run(feed_dict={x: train, y_: labels})\n",
    "\n",
    "import matplotlib.pyplot as plt\n",
    "plt.ion()\n",
    "plt.figure(figsize=(6, 6))\n",
    "plt.plot(train_acc)"
   ]
  },
  {
   "cell_type": "code",
   "execution_count": null,
   "metadata": {
    "collapsed": true
   },
   "outputs": [],
   "source": []
  }
 ],
 "metadata": {
  "kernelspec": {
   "display_name": "Python 2",
   "language": "python",
   "name": "python2"
  },
  "language_info": {
   "codemirror_mode": {
    "name": "ipython",
    "version": 2
   },
   "file_extension": ".py",
   "mimetype": "text/x-python",
   "name": "python",
   "nbconvert_exporter": "python",
   "pygments_lexer": "ipython2",
   "version": "2.7.13"
  }
 },
 "nbformat": 4,
 "nbformat_minor": 2
}
