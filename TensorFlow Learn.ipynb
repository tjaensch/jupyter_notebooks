{
 "cells": [
  {
   "cell_type": "code",
   "execution_count": 1,
   "metadata": {
    "collapsed": true
   },
   "outputs": [],
   "source": [
    "# https://www.packtpub.com/mapt/book/big_data_and_business_intelligence/9781787282773/4/ch04lvl1sec33/tensorflow-learn"
   ]
  },
  {
   "cell_type": "code",
   "execution_count": 2,
   "metadata": {
    "collapsed": true
   },
   "outputs": [],
   "source": [
    "# TF made EZ\n",
    "import tensorflow.contrib.learn as learn\n",
    "from tensorflow.contrib.learn.python.learn.estimators import estimator"
   ]
  },
  {
   "cell_type": "code",
   "execution_count": 3,
   "metadata": {
    "collapsed": true
   },
   "outputs": [],
   "source": [
    "# Some basics\n",
    "import numpy as np\n",
    "import math\n",
    "import matplotlib.pyplot as plt\n",
    "plt.ion()\n",
    "# Learn more sklearn\n",
    "# scikit-learn.org\n",
    "import sklearn\n",
    "from sklearn import metrics"
   ]
  },
  {
   "cell_type": "code",
   "execution_count": 4,
   "metadata": {
    "collapsed": true
   },
   "outputs": [],
   "source": [
    "# Seed the data\n",
    "np.random.seed(42)\n",
    "# Load data\n",
    "data = np.load('data_with_labels.npz')\n",
    "train = data['arr_0']/255.\n",
    "labels = data['arr_1']"
   ]
  },
  {
   "cell_type": "code",
   "execution_count": 5,
   "metadata": {
    "collapsed": true
   },
   "outputs": [],
   "source": [
    "# Split data into training and validation\n",
    "indices = np.random.permutation(train.shape[0])\n",
    "valid_cnt = int(train.shape[0] * 0.1)\n",
    "test_idx, training_idx = indices[:valid_cnt],\\\n",
    " indices[valid_cnt:]\n",
    "test, train = train[test_idx,:],\\\n",
    "              train[training_idx,:]\n",
    "test_labels, train_labels = labels[test_idx],\\\n",
    "                            labels[training_idx]\n",
    " \n",
    "train = np.array(train,dtype=np.float32)\n",
    "test = np.array(test,dtype=np.float32)\n",
    "train_labels = np.array(train_labels,dtype=np.int32)\n",
    "test_labels = np.array(test_labels,dtype=np.int32)"
   ]
  },
  {
   "cell_type": "code",
   "execution_count": 6,
   "metadata": {
    "collapsed": true
   },
   "outputs": [],
   "source": [
    "# Convert features to learn style\n",
    "feature_columns = learn.infer_real_valued_columns_from_input(train.reshape([-1,36*36]))"
   ]
  },
  {
   "cell_type": "code",
   "execution_count": 7,
   "metadata": {
    "collapsed": false
   },
   "outputs": [
    {
     "name": "stdout",
     "output_type": "stream",
     "text": [
      "INFO:tensorflow:Using default config.\n",
      "WARNING:tensorflow:Using temporary folder as model directory: /var/folders/sr/rtkpcb_157b2zv5w6hcjg7540000gn/T/tmpXEEoVp\n",
      "INFO:tensorflow:Using config: {'_save_checkpoints_secs': 600, '_num_ps_replicas': 0, '_keep_checkpoint_max': 5, '_task_type': None, '_is_chief': True, '_cluster_spec': <tensorflow.python.training.server_lib.ClusterSpec object at 0x11fa8c790>, '_model_dir': '/var/folders/sr/rtkpcb_157b2zv5w6hcjg7540000gn/T/tmpXEEoVp', '_save_checkpoints_steps': None, '_keep_checkpoint_every_n_hours': 10000, '_session_config': None, '_tf_random_seed': None, '_save_summary_steps': 100, '_environment': 'local', '_num_worker_replicas': 0, '_task_id': 0, '_log_step_count_steps': 100, '_tf_config': gpu_options {\n",
      "  per_process_gpu_memory_fraction: 1\n",
      "}\n",
      ", '_evaluation_master': '', '_master': ''}\n"
     ]
    }
   ],
   "source": [
    "# Logistic Regression\n",
    "classifier = estimator.SKCompat(learn.LinearClassifier(\n",
    "feature_columns = feature_columns,\n",
    "n_classes=5))"
   ]
  },
  {
   "cell_type": "code",
   "execution_count": 8,
   "metadata": {
    "collapsed": false
   },
   "outputs": [
    {
     "name": "stdout",
     "output_type": "stream",
     "text": [
      "WARNING:tensorflow:From /Users/thomasjaensch/anaconda2/lib/python2.7/site-packages/tensorflow/contrib/learn/python/learn/estimators/head.py:642: scalar_summary (from tensorflow.python.ops.logging_ops) is deprecated and will be removed after 2016-11-30.\n",
      "Instructions for updating:\n",
      "Please switch to tf.summary.scalar. Note that tf.summary.scalar uses the node name instead of the tag. This means that TensorFlow will automatically de-duplicate summary names based on the scope they are created in. Also, passing a tensor or list of tags to a scalar summary op is no longer supported.\n",
      "INFO:tensorflow:Create CheckpointSaverHook.\n",
      "INFO:tensorflow:Saving checkpoints for 1 into /var/folders/sr/rtkpcb_157b2zv5w6hcjg7540000gn/T/tmpXEEoVp/model.ckpt.\n",
      "INFO:tensorflow:loss = 1.60944, step = 1\n",
      "INFO:tensorflow:global_step/sec: 720.424\n",
      "INFO:tensorflow:loss = 0.791722, step = 101 (0.145 sec)\n",
      "INFO:tensorflow:global_step/sec: 545.254\n",
      "INFO:tensorflow:loss = 0.822578, step = 201 (0.174 sec)\n",
      "INFO:tensorflow:global_step/sec: 669.151\n",
      "INFO:tensorflow:loss = 1.03286, step = 301 (0.150 sec)\n",
      "INFO:tensorflow:global_step/sec: 657.7\n",
      "INFO:tensorflow:loss = 0.86259, step = 401 (0.152 sec)\n",
      "INFO:tensorflow:global_step/sec: 751.654\n",
      "INFO:tensorflow:loss = 0.614716, step = 501 (0.133 sec)\n",
      "INFO:tensorflow:global_step/sec: 623.749\n",
      "INFO:tensorflow:loss = 0.652129, step = 601 (0.160 sec)\n",
      "INFO:tensorflow:global_step/sec: 679.237\n",
      "INFO:tensorflow:loss = 0.677792, step = 701 (0.148 sec)\n",
      "INFO:tensorflow:global_step/sec: 727.441\n",
      "INFO:tensorflow:loss = 0.870174, step = 801 (0.137 sec)\n",
      "INFO:tensorflow:global_step/sec: 729.838\n",
      "INFO:tensorflow:loss = 0.564002, step = 901 (0.137 sec)\n",
      "INFO:tensorflow:global_step/sec: 700.898\n",
      "INFO:tensorflow:loss = 0.752647, step = 1001 (0.143 sec)\n",
      "INFO:tensorflow:Saving checkpoints for 1024 into /var/folders/sr/rtkpcb_157b2zv5w6hcjg7540000gn/T/tmpXEEoVp/model.ckpt.\n",
      "INFO:tensorflow:Loss for final step: 0.484643.\n"
     ]
    },
    {
     "data": {
      "text/plain": [
       "SKCompat()"
      ]
     },
     "execution_count": 8,
     "metadata": {},
     "output_type": "execute_result"
    }
   ],
   "source": [
    "# One line training\n",
    "# steps is number of total batches\n",
    "# steps*batch_size/len(train) = num_epochs\n",
    "classifier.fit(train.reshape([-1,36*36]),\n",
    " train_labels,\n",
    " steps=1024,\n",
    " batch_size=32)"
   ]
  },
  {
   "cell_type": "code",
   "execution_count": 9,
   "metadata": {
    "collapsed": false
   },
   "outputs": [
    {
     "name": "stdout",
     "output_type": "stream",
     "text": [
      "INFO:tensorflow:Restoring parameters from /var/folders/sr/rtkpcb_157b2zv5w6hcjg7540000gn/T/tmpXEEoVp/model.ckpt-1024\n"
     ]
    },
    {
     "data": {
      "text/plain": [
       "0.75268817204301075"
      ]
     },
     "execution_count": 9,
     "metadata": {},
     "output_type": "execute_result"
    }
   ],
   "source": [
    "# sklearn compatible accuracy\n",
    "test_probs = classifier.predict(test.reshape([-1,36*36]))\n",
    "sklearn.metrics.accuracy_score(test_labels,\n",
    " test_probs['classes'])"
   ]
  },
  {
   "cell_type": "code",
   "execution_count": null,
   "metadata": {
    "collapsed": true
   },
   "outputs": [],
   "source": []
  }
 ],
 "metadata": {
  "kernelspec": {
   "display_name": "Python 2",
   "language": "python",
   "name": "python2"
  },
  "language_info": {
   "codemirror_mode": {
    "name": "ipython",
    "version": 2
   },
   "file_extension": ".py",
   "mimetype": "text/x-python",
   "name": "python",
   "nbconvert_exporter": "python",
   "pygments_lexer": "ipython2",
   "version": "2.7.13"
  }
 },
 "nbformat": 4,
 "nbformat_minor": 2
}
