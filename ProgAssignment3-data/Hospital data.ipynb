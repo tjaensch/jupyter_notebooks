{
 "cells": [
  {
   "cell_type": "code",
   "execution_count": 1,
   "metadata": {
    "collapsed": true
   },
   "outputs": [],
   "source": [
    "outcome <- read.csv(\"outcome-of-care-measures.csv\", colClasses = \"character\")"
   ]
  },
  {
   "cell_type": "code",
   "execution_count": 2,
   "metadata": {
    "collapsed": false
   },
   "outputs": [
    {
     "data": {
      "text/html": [
       "<table>\n",
       "<thead><tr><th scope=col>Provider.Number</th><th scope=col>Hospital.Name</th><th scope=col>Address.1</th><th scope=col>Address.2</th><th scope=col>Address.3</th><th scope=col>City</th><th scope=col>State</th><th scope=col>ZIP.Code</th><th scope=col>County.Name</th><th scope=col>Phone.Number</th><th scope=col>⋯</th><th scope=col>Lower.Readmission.Estimate...Hospital.30.Day.Readmission.Rates.from.Heart.Failure</th><th scope=col>Upper.Readmission.Estimate...Hospital.30.Day.Readmission.Rates.from.Heart.Failure</th><th scope=col>Number.of.Patients...Hospital.30.Day.Readmission.Rates.from.Heart.Failure</th><th scope=col>Footnote...Hospital.30.Day.Readmission.Rates.from.Heart.Failure</th><th scope=col>Hospital.30.Day.Readmission.Rates.from.Pneumonia</th><th scope=col>Comparison.to.U.S..Rate...Hospital.30.Day.Readmission.Rates.from.Pneumonia</th><th scope=col>Lower.Readmission.Estimate...Hospital.30.Day.Readmission.Rates.from.Pneumonia</th><th scope=col>Upper.Readmission.Estimate...Hospital.30.Day.Readmission.Rates.from.Pneumonia</th><th scope=col>Number.of.Patients...Hospital.30.Day.Readmission.Rates.from.Pneumonia</th><th scope=col>Footnote...Hospital.30.Day.Readmission.Rates.from.Pneumonia</th></tr></thead>\n",
       "<tbody>\n",
       "\t<tr><td>010001                              </td><td>SOUTHEAST ALABAMA MEDICAL CENTER    </td><td>1108 ROSS CLARK CIRCLE              </td><td>                                    </td><td>                                    </td><td>DOTHAN                              </td><td>AL                                  </td><td>36301                               </td><td>HOUSTON                             </td><td>3347938701                          </td><td>⋯                                   </td><td>21.3                                </td><td>26.5                                </td><td>891                                 </td><td>                                    </td><td>17.1                                </td><td>No Different than U.S. National Rate</td><td>14.4                                </td><td>20.4                                </td><td>400                                 </td><td>                                    </td></tr>\n",
       "\t<tr><td>010005                              </td><td>MARSHALL MEDICAL CENTER SOUTH       </td><td>2505 U S HIGHWAY 431 NORTH          </td><td>                                    </td><td>                                    </td><td>BOAZ                                </td><td>AL                                  </td><td>35957                               </td><td>MARSHALL                            </td><td>2565938310                          </td><td>⋯                                   </td><td>19.2                                </td><td>26.1                                </td><td>264                                 </td><td>                                    </td><td>17.6                                </td><td>No Different than U.S. National Rate</td><td>15.0                                </td><td>20.6                                </td><td>374                                 </td><td>                                    </td></tr>\n",
       "\t<tr><td>010006                              </td><td>ELIZA COFFEE MEMORIAL HOSPITAL      </td><td>205 MARENGO STREET                  </td><td>                                    </td><td>                                    </td><td>FLORENCE                            </td><td>AL                                  </td><td>35631                               </td><td>LAUDERDALE                          </td><td>2567688400                          </td><td>⋯                                   </td><td>17.2                                </td><td>22.9                                </td><td>614                                 </td><td>                                    </td><td>16.9                                </td><td>No Different than U.S. National Rate</td><td>14.7                                </td><td>19.5                                </td><td>842                                 </td><td>                                    </td></tr>\n",
       "\t<tr><td>010007                              </td><td>MIZELL MEMORIAL HOSPITAL            </td><td>702 N MAIN ST                       </td><td>                                    </td><td>                                    </td><td>OPP                                 </td><td>AL                                  </td><td>36467                               </td><td>COVINGTON                           </td><td>3344933541                          </td><td>⋯                                   </td><td>22.4                                </td><td>31.9                                </td><td>135                                 </td><td>                                    </td><td>19.4                                </td><td>No Different than U.S. National Rate</td><td>15.9                                </td><td>23.2                                </td><td>254                                 </td><td>                                    </td></tr>\n",
       "\t<tr><td>010008                              </td><td>CRENSHAW COMMUNITY HOSPITAL         </td><td>101 HOSPITAL CIRCLE                 </td><td>                                    </td><td>                                    </td><td>LUVERNE                             </td><td>AL                                  </td><td>36049                               </td><td>CRENSHAW                            </td><td>3343353374                          </td><td>⋯                                   </td><td>19.9                                </td><td>30.2                                </td><td>59                                  </td><td>                                    </td><td>18.0                                </td><td>No Different than U.S. National Rate</td><td>14.0                                </td><td>22.8                                </td><td>56                                  </td><td>                                    </td></tr>\n",
       "\t<tr><td>010010                              </td><td>MARSHALL MEDICAL CENTER NORTH       </td><td>8000 ALABAMA HIGHWAY 69             </td><td>                                    </td><td>                                    </td><td>GUNTERSVILLE                        </td><td>AL                                  </td><td>35976                               </td><td>MARSHALL                            </td><td>2565718000                          </td><td>⋯                                   </td><td>20.1                                </td><td>28.2                                </td><td>173                                 </td><td>                                    </td><td>18.7                                </td><td>No Different than U.S. National Rate</td><td>15.7                                </td><td>22.2                                </td><td>326                                 </td><td>                                    </td></tr>\n",
       "</tbody>\n",
       "</table>\n"
      ],
      "text/latex": [
       "\\begin{tabular}{r|llllllllllllllllllllllllllllllllllllllllllllll}\n",
       " Provider.Number & Hospital.Name & Address.1 & Address.2 & Address.3 & City & State & ZIP.Code & County.Name & Phone.Number & ⋯ & Lower.Readmission.Estimate...Hospital.30.Day.Readmission.Rates.from.Heart.Failure & Upper.Readmission.Estimate...Hospital.30.Day.Readmission.Rates.from.Heart.Failure & Number.of.Patients...Hospital.30.Day.Readmission.Rates.from.Heart.Failure & Footnote...Hospital.30.Day.Readmission.Rates.from.Heart.Failure & Hospital.30.Day.Readmission.Rates.from.Pneumonia & Comparison.to.U.S..Rate...Hospital.30.Day.Readmission.Rates.from.Pneumonia & Lower.Readmission.Estimate...Hospital.30.Day.Readmission.Rates.from.Pneumonia & Upper.Readmission.Estimate...Hospital.30.Day.Readmission.Rates.from.Pneumonia & Number.of.Patients...Hospital.30.Day.Readmission.Rates.from.Pneumonia & Footnote...Hospital.30.Day.Readmission.Rates.from.Pneumonia\\\\\n",
       "\\hline\n",
       "\t 010001                               & SOUTHEAST ALABAMA MEDICAL CENTER     & 1108 ROSS CLARK CIRCLE               &                                      &                                      & DOTHAN                               & AL                                   & 36301                                & HOUSTON                              & 3347938701                           & ⋯                                    & 21.3                                 & 26.5                                 & 891                                  &                                      & 17.1                                 & No Different than U.S. National Rate & 14.4                                 & 20.4                                 & 400                                  &                                     \\\\\n",
       "\t 010005                               & MARSHALL MEDICAL CENTER SOUTH        & 2505 U S HIGHWAY 431 NORTH           &                                      &                                      & BOAZ                                 & AL                                   & 35957                                & MARSHALL                             & 2565938310                           & ⋯                                    & 19.2                                 & 26.1                                 & 264                                  &                                      & 17.6                                 & No Different than U.S. National Rate & 15.0                                 & 20.6                                 & 374                                  &                                     \\\\\n",
       "\t 010006                               & ELIZA COFFEE MEMORIAL HOSPITAL       & 205 MARENGO STREET                   &                                      &                                      & FLORENCE                             & AL                                   & 35631                                & LAUDERDALE                           & 2567688400                           & ⋯                                    & 17.2                                 & 22.9                                 & 614                                  &                                      & 16.9                                 & No Different than U.S. National Rate & 14.7                                 & 19.5                                 & 842                                  &                                     \\\\\n",
       "\t 010007                               & MIZELL MEMORIAL HOSPITAL             & 702 N MAIN ST                        &                                      &                                      & OPP                                  & AL                                   & 36467                                & COVINGTON                            & 3344933541                           & ⋯                                    & 22.4                                 & 31.9                                 & 135                                  &                                      & 19.4                                 & No Different than U.S. National Rate & 15.9                                 & 23.2                                 & 254                                  &                                     \\\\\n",
       "\t 010008                               & CRENSHAW COMMUNITY HOSPITAL          & 101 HOSPITAL CIRCLE                  &                                      &                                      & LUVERNE                              & AL                                   & 36049                                & CRENSHAW                             & 3343353374                           & ⋯                                    & 19.9                                 & 30.2                                 & 59                                   &                                      & 18.0                                 & No Different than U.S. National Rate & 14.0                                 & 22.8                                 & 56                                   &                                     \\\\\n",
       "\t 010010                               & MARSHALL MEDICAL CENTER NORTH        & 8000 ALABAMA HIGHWAY 69              &                                      &                                      & GUNTERSVILLE                         & AL                                   & 35976                                & MARSHALL                             & 2565718000                           & ⋯                                    & 20.1                                 & 28.2                                 & 173                                  &                                      & 18.7                                 & No Different than U.S. National Rate & 15.7                                 & 22.2                                 & 326                                  &                                     \\\\\n",
       "\\end{tabular}\n"
      ],
      "text/markdown": [
       "\n",
       "Provider.Number | Hospital.Name | Address.1 | Address.2 | Address.3 | City | State | ZIP.Code | County.Name | Phone.Number | ⋯ | Lower.Readmission.Estimate...Hospital.30.Day.Readmission.Rates.from.Heart.Failure | Upper.Readmission.Estimate...Hospital.30.Day.Readmission.Rates.from.Heart.Failure | Number.of.Patients...Hospital.30.Day.Readmission.Rates.from.Heart.Failure | Footnote...Hospital.30.Day.Readmission.Rates.from.Heart.Failure | Hospital.30.Day.Readmission.Rates.from.Pneumonia | Comparison.to.U.S..Rate...Hospital.30.Day.Readmission.Rates.from.Pneumonia | Lower.Readmission.Estimate...Hospital.30.Day.Readmission.Rates.from.Pneumonia | Upper.Readmission.Estimate...Hospital.30.Day.Readmission.Rates.from.Pneumonia | Number.of.Patients...Hospital.30.Day.Readmission.Rates.from.Pneumonia | Footnote...Hospital.30.Day.Readmission.Rates.from.Pneumonia | \n",
       "|---|---|---|---|---|---|\n",
       "| 010001                               | SOUTHEAST ALABAMA MEDICAL CENTER     | 1108 ROSS CLARK CIRCLE               |                                      |                                      | DOTHAN                               | AL                                   | 36301                                | HOUSTON                              | 3347938701                           | ⋯                                    | 21.3                                 | 26.5                                 | 891                                  |                                      | 17.1                                 | No Different than U.S. National Rate | 14.4                                 | 20.4                                 | 400                                  |                                      | \n",
       "| 010005                               | MARSHALL MEDICAL CENTER SOUTH        | 2505 U S HIGHWAY 431 NORTH           |                                      |                                      | BOAZ                                 | AL                                   | 35957                                | MARSHALL                             | 2565938310                           | ⋯                                    | 19.2                                 | 26.1                                 | 264                                  |                                      | 17.6                                 | No Different than U.S. National Rate | 15.0                                 | 20.6                                 | 374                                  |                                      | \n",
       "| 010006                               | ELIZA COFFEE MEMORIAL HOSPITAL       | 205 MARENGO STREET                   |                                      |                                      | FLORENCE                             | AL                                   | 35631                                | LAUDERDALE                           | 2567688400                           | ⋯                                    | 17.2                                 | 22.9                                 | 614                                  |                                      | 16.9                                 | No Different than U.S. National Rate | 14.7                                 | 19.5                                 | 842                                  |                                      | \n",
       "| 010007                               | MIZELL MEMORIAL HOSPITAL             | 702 N MAIN ST                        |                                      |                                      | OPP                                  | AL                                   | 36467                                | COVINGTON                            | 3344933541                           | ⋯                                    | 22.4                                 | 31.9                                 | 135                                  |                                      | 19.4                                 | No Different than U.S. National Rate | 15.9                                 | 23.2                                 | 254                                  |                                      | \n",
       "| 010008                               | CRENSHAW COMMUNITY HOSPITAL          | 101 HOSPITAL CIRCLE                  |                                      |                                      | LUVERNE                              | AL                                   | 36049                                | CRENSHAW                             | 3343353374                           | ⋯                                    | 19.9                                 | 30.2                                 | 59                                   |                                      | 18.0                                 | No Different than U.S. National Rate | 14.0                                 | 22.8                                 | 56                                   |                                      | \n",
       "| 010010                               | MARSHALL MEDICAL CENTER NORTH        | 8000 ALABAMA HIGHWAY 69              |                                      |                                      | GUNTERSVILLE                         | AL                                   | 35976                                | MARSHALL                             | 2565718000                           | ⋯                                    | 20.1                                 | 28.2                                 | 173                                  |                                      | 18.7                                 | No Different than U.S. National Rate | 15.7                                 | 22.2                                 | 326                                  |                                      | \n",
       "\n",
       "\n"
      ],
      "text/plain": [
       "  Provider.Number Hospital.Name                    Address.1                 \n",
       "1 010001          SOUTHEAST ALABAMA MEDICAL CENTER 1108 ROSS CLARK CIRCLE    \n",
       "2 010005          MARSHALL MEDICAL CENTER SOUTH    2505 U S HIGHWAY 431 NORTH\n",
       "3 010006          ELIZA COFFEE MEMORIAL HOSPITAL   205 MARENGO STREET        \n",
       "4 010007          MIZELL MEMORIAL HOSPITAL         702 N MAIN ST             \n",
       "5 010008          CRENSHAW COMMUNITY HOSPITAL      101 HOSPITAL CIRCLE       \n",
       "6 010010          MARSHALL MEDICAL CENTER NORTH    8000 ALABAMA HIGHWAY 69   \n",
       "  Address.2 Address.3 City         State ZIP.Code County.Name Phone.Number ⋯\n",
       "1                     DOTHAN       AL    36301    HOUSTON     3347938701   ⋯\n",
       "2                     BOAZ         AL    35957    MARSHALL    2565938310   ⋯\n",
       "3                     FLORENCE     AL    35631    LAUDERDALE  2567688400   ⋯\n",
       "4                     OPP          AL    36467    COVINGTON   3344933541   ⋯\n",
       "5                     LUVERNE      AL    36049    CRENSHAW    3343353374   ⋯\n",
       "6                     GUNTERSVILLE AL    35976    MARSHALL    2565718000   ⋯\n",
       "  Lower.Readmission.Estimate...Hospital.30.Day.Readmission.Rates.from.Heart.Failure\n",
       "1 21.3                                                                             \n",
       "2 19.2                                                                             \n",
       "3 17.2                                                                             \n",
       "4 22.4                                                                             \n",
       "5 19.9                                                                             \n",
       "6 20.1                                                                             \n",
       "  Upper.Readmission.Estimate...Hospital.30.Day.Readmission.Rates.from.Heart.Failure\n",
       "1 26.5                                                                             \n",
       "2 26.1                                                                             \n",
       "3 22.9                                                                             \n",
       "4 31.9                                                                             \n",
       "5 30.2                                                                             \n",
       "6 28.2                                                                             \n",
       "  Number.of.Patients...Hospital.30.Day.Readmission.Rates.from.Heart.Failure\n",
       "1 891                                                                      \n",
       "2 264                                                                      \n",
       "3 614                                                                      \n",
       "4 135                                                                      \n",
       "5 59                                                                       \n",
       "6 173                                                                      \n",
       "  Footnote...Hospital.30.Day.Readmission.Rates.from.Heart.Failure\n",
       "1                                                                \n",
       "2                                                                \n",
       "3                                                                \n",
       "4                                                                \n",
       "5                                                                \n",
       "6                                                                \n",
       "  Hospital.30.Day.Readmission.Rates.from.Pneumonia\n",
       "1 17.1                                            \n",
       "2 17.6                                            \n",
       "3 16.9                                            \n",
       "4 19.4                                            \n",
       "5 18.0                                            \n",
       "6 18.7                                            \n",
       "  Comparison.to.U.S..Rate...Hospital.30.Day.Readmission.Rates.from.Pneumonia\n",
       "1 No Different than U.S. National Rate                                      \n",
       "2 No Different than U.S. National Rate                                      \n",
       "3 No Different than U.S. National Rate                                      \n",
       "4 No Different than U.S. National Rate                                      \n",
       "5 No Different than U.S. National Rate                                      \n",
       "6 No Different than U.S. National Rate                                      \n",
       "  Lower.Readmission.Estimate...Hospital.30.Day.Readmission.Rates.from.Pneumonia\n",
       "1 14.4                                                                         \n",
       "2 15.0                                                                         \n",
       "3 14.7                                                                         \n",
       "4 15.9                                                                         \n",
       "5 14.0                                                                         \n",
       "6 15.7                                                                         \n",
       "  Upper.Readmission.Estimate...Hospital.30.Day.Readmission.Rates.from.Pneumonia\n",
       "1 20.4                                                                         \n",
       "2 20.6                                                                         \n",
       "3 19.5                                                                         \n",
       "4 23.2                                                                         \n",
       "5 22.8                                                                         \n",
       "6 22.2                                                                         \n",
       "  Number.of.Patients...Hospital.30.Day.Readmission.Rates.from.Pneumonia\n",
       "1 400                                                                  \n",
       "2 374                                                                  \n",
       "3 842                                                                  \n",
       "4 254                                                                  \n",
       "5 56                                                                   \n",
       "6 326                                                                  \n",
       "  Footnote...Hospital.30.Day.Readmission.Rates.from.Pneumonia\n",
       "1                                                            \n",
       "2                                                            \n",
       "3                                                            \n",
       "4                                                            \n",
       "5                                                            \n",
       "6                                                            "
      ]
     },
     "metadata": {},
     "output_type": "display_data"
    }
   ],
   "source": [
    " head(outcome)"
   ]
  },
  {
   "cell_type": "code",
   "execution_count": 3,
   "metadata": {
    "collapsed": false
   },
   "outputs": [
    {
     "name": "stderr",
     "output_type": "stream",
     "text": [
      "Warning message in eval(expr, envir, enclos):\n",
      "“NAs introduced by coercion”"
     ]
    }
   ],
   "source": [
    " outcome[, 11] <- as.numeric(outcome[, 11])"
   ]
  },
  {
   "cell_type": "code",
   "execution_count": 4,
   "metadata": {
    "collapsed": false
   },
   "outputs": [
    {
     "data": {
      "image/png": "[encoded data removed]",
      "text/plain": [
       "Plot with title “Histogram of outcome[, 11]”"
      ]
     },
     "metadata": {},
     "output_type": "display_data"
    }
   ],
   "source": [
    "hist(outcome[, 11])"
   ]
  },
  {
   "cell_type": "code",
   "execution_count": 23,
   "metadata": {
    "collapsed": true
   },
   "outputs": [],
   "source": [
    "best <- function(state, outcome) {\n",
    "        check_valid <- c(\"heart attack\",\"heart failure\",\"pneumonia\")\n",
    "        # Check if the outcome is a valid one\n",
    "        if(outcome %in% check_valid)\n",
    "        {\n",
    "                file <- read.csv(file=\"outcome-of-care-measures.csv\",colClasses = \"character\")\n",
    "                subset <- file[c(2, 7, 11, 17, 23)]\n",
    "                # 2 Hospital Name\n",
    "                # 7 State abv.\n",
    "                # 11 Heart Attack\n",
    "                # 17 Heart Failure\n",
    "                # 23 Pneumonia\n",
    "                names(subset) <- c(\"name\",\"state\",\"heart attack\",\"heart failure\",\"pneumonia\")\n",
    "                \n",
    "                #Check if valid state\n",
    "                if (state %in% subset[,\"state\"]) \n",
    "                {       # get where the valid rows with the information about the given state       \n",
    "                        validData <- subset[,\"state\"] == state   &   subset[,outcome] != \"Not Available\"              \n",
    "                        minPos <- which.min(subset[,outcome][validData])   # give the position of the lower outcome rate\n",
    "                        name <- subset[,\"name\"][validData][minPos]         # get hospital name\n",
    "                } else stop(\"invalid state\")       \n",
    "        }\n",
    "        else stop(\"invalid outcome\")\n",
    "        name\n",
    "}"
   ]
  },
  {
   "cell_type": "code",
   "execution_count": 24,
   "metadata": {
    "collapsed": false
   },
   "outputs": [
    {
     "data": {
      "text/html": [
       "'CYPRESS FAIRBANKS MEDICAL CENTER'"
      ],
      "text/latex": [
       "'CYPRESS FAIRBANKS MEDICAL CENTER'"
      ],
      "text/markdown": [
       "'CYPRESS FAIRBANKS MEDICAL CENTER'"
      ],
      "text/plain": [
       "[1] \"CYPRESS FAIRBANKS MEDICAL CENTER\""
      ]
     },
     "metadata": {},
     "output_type": "display_data"
    }
   ],
   "source": [
    "best(\"TX\", \"heart attack\")"
   ]
  },
  {
   "cell_type": "code",
   "execution_count": 25,
   "metadata": {
    "collapsed": false
   },
   "outputs": [
    {
     "data": {
      "text/html": [
       "'JOHNS HOPKINS HOSPITAL, THE'"
      ],
      "text/latex": [
       "'JOHNS HOPKINS HOSPITAL, THE'"
      ],
      "text/markdown": [
       "'JOHNS HOPKINS HOSPITAL, THE'"
      ],
      "text/plain": [
       "[1] \"JOHNS HOPKINS HOSPITAL, THE\""
      ]
     },
     "metadata": {},
     "output_type": "display_data"
    }
   ],
   "source": [
    " best(\"MD\", \"heart attack\")"
   ]
  },
  {
   "cell_type": "code",
   "execution_count": 39,
   "metadata": {
    "collapsed": false
   },
   "outputs": [
    {
     "data": {
      "text/html": [
       "'SAINT AGNES HOSPITAL'"
      ],
      "text/latex": [
       "'SAINT AGNES HOSPITAL'"
      ],
      "text/markdown": [
       "'SAINT AGNES HOSPITAL'"
      ],
      "text/plain": [
       "[1] \"SAINT AGNES HOSPITAL\""
      ]
     },
     "metadata": {},
     "output_type": "display_data"
    }
   ],
   "source": [
    "rankhospital(\"MD\", \"heart failure\", 5)"
   ]
  },
  {
   "cell_type": "code",
   "execution_count": 38,
   "metadata": {
    "collapsed": false
   },
   "outputs": [
    {
     "data": {
      "text/html": [
       "'HARFORD MEMORIAL HOSPITAL'"
      ],
      "text/latex": [
       "'HARFORD MEMORIAL HOSPITAL'"
      ],
      "text/markdown": [
       "'HARFORD MEMORIAL HOSPITAL'"
      ],
      "text/plain": [
       "[1] \"HARFORD MEMORIAL HOSPITAL\""
      ]
     },
     "metadata": {},
     "output_type": "display_data"
    }
   ],
   "source": [
    "rankhospital(\"MD\", \"heart attack\", \"worst\")"
   ]
  },
  {
   "cell_type": "code",
   "execution_count": 40,
   "metadata": {
    "collapsed": true
   },
   "outputs": [],
   "source": [
    "rankall <- function(outcome, num = \"best\"){\n",
    "        \n",
    "        ## Read outcome data\n",
    "        ## Check that state and outcome are valid\n",
    "        ## For each state, find the hospital of the given rank\n",
    "        ## Return a data frame with the hospital names and the\n",
    "        ## (abbreviated) state name\n",
    "        \n",
    "        \n",
    "        valid_outcomes <- c(\"heart attack\",\"heart failure\",\"pneumonia\")\n",
    "        \n",
    "        \n",
    "        # Check if the outcome is a valid one\n",
    "        if(outcome %in% valid_outcomes)\n",
    "        {\n",
    "                file              <- read.csv(file=\"outcome-of-care-measures.csv\",colClasses = \"character\")\n",
    "                filterData        <- file[c(2, 7, 11, 17, 23)]\n",
    "                names(filterData) <- c(\"name\",\"state\",\"heart attack\",\"heart failure\",\"pneumonia\")\n",
    "                dFrameFilter      <- filterData[filterData[outcome] != \"Not Available\", ] # get where the valid rows with the information \n",
    "                \n",
    "                #getting correct order first by rate. In case of ties the name is use.\n",
    "                index        <- order(dFrameFilter$name)                   # order by name\n",
    "                dFrameFilter <- dFrameFilter[index,]\n",
    "                index        <- order(as.numeric(dFrameFilter[,outcome])) # order by outcome\n",
    "                orderData    <- dFrameFilter[index,]                      # The dataFrame ordered by outcome and name\n",
    "                allStates    <- unique(dFrameFilter[,\"state\"])            # a vector with all unique states\n",
    "                allStates    <- allStates[order(allStates)]               # order the vector of unique states\n",
    "                \n",
    "                output <- data.frame()\n",
    "                for(state in allStates) # For all state in the unique list of states\n",
    "                {\n",
    "                        getStateData <- orderData[orderData$state == state, c(1,2)] #get State data (name,state)\n",
    "                        if(is.numeric(num) & nrow(getStateData) <= num) \n",
    "                        {\n",
    "                                name <- NA\n",
    "                        }\n",
    "                        else\n",
    "                        {       \n",
    "                                if(is.numeric(num))      name   <- getStateData[,\"name\"][num]\n",
    "                                else if(num == \"best\")   name   <- getStateData[,\"name\"][1]\n",
    "                                else                     name   <- tail(getStateData, n=1)[,\"name\"] #worst\n",
    "                        }\n",
    "                        newRow <- data.frame(name,state)       #create row to be added\n",
    "                        names(newRow) <- names(output)\n",
    "                        output <- rbind(output,newRow)\n",
    "                } # for(state in allStates)\n",
    "                        \n",
    "                names(output) <- c(\"hospital\",\"state\")\n",
    "                output\n",
    "        }\n",
    "        else stop(\"invalid outcome\")   \n",
    "}"
   ]
  },
  {
   "cell_type": "code",
   "execution_count": 41,
   "metadata": {
    "collapsed": false
   },
   "outputs": [
    {
     "data": {
      "text/html": [
       "'MUSC MEDICAL CENTER'"
      ],
      "text/latex": [
       "'MUSC MEDICAL CENTER'"
      ],
      "text/markdown": [
       "'MUSC MEDICAL CENTER'"
      ],
      "text/plain": [
       "[1] \"MUSC MEDICAL CENTER\""
      ]
     },
     "metadata": {},
     "output_type": "display_data"
    }
   ],
   "source": [
    "best(\"SC\", \"heart attack\")"
   ]
  },
  {
   "cell_type": "code",
   "execution_count": 42,
   "metadata": {
    "collapsed": false
   },
   "outputs": [
    {
     "data": {
      "text/html": [
       "'MAIMONIDES MEDICAL CENTER'"
      ],
      "text/latex": [
       "'MAIMONIDES MEDICAL CENTER'"
      ],
      "text/markdown": [
       "'MAIMONIDES MEDICAL CENTER'"
      ],
      "text/plain": [
       "[1] \"MAIMONIDES MEDICAL CENTER\""
      ]
     },
     "metadata": {},
     "output_type": "display_data"
    }
   ],
   "source": [
    "best(\"NY\", \"pneumonia\")"
   ]
  },
  {
   "cell_type": "code",
   "execution_count": 43,
   "metadata": {
    "collapsed": false
   },
   "outputs": [
    {
     "data": {
      "text/html": [
       "'YUKON KUSKOKWIM DELTA REG HOSPITAL'"
      ],
      "text/latex": [
       "'YUKON KUSKOKWIM DELTA REG HOSPITAL'"
      ],
      "text/markdown": [
       "'YUKON KUSKOKWIM DELTA REG HOSPITAL'"
      ],
      "text/plain": [
       "[1] \"YUKON KUSKOKWIM DELTA REG HOSPITAL\""
      ]
     },
     "metadata": {},
     "output_type": "display_data"
    }
   ],
   "source": [
    "best(\"AK\", \"pneumonia\")"
   ]
  },
  {
   "cell_type": "code",
   "execution_count": 44,
   "metadata": {
    "collapsed": false
   },
   "outputs": [
    {
     "data": {
      "text/html": [
       "'WAYNE MEMORIAL HOSPITAL'"
      ],
      "text/latex": [
       "'WAYNE MEMORIAL HOSPITAL'"
      ],
      "text/markdown": [
       "'WAYNE MEMORIAL HOSPITAL'"
      ],
      "text/plain": [
       "[1] \"WAYNE MEMORIAL HOSPITAL\""
      ]
     },
     "metadata": {},
     "output_type": "display_data"
    }
   ],
   "source": [
    "rankhospital(\"NC\", \"heart attack\", \"worst\")"
   ]
  },
  {
   "cell_type": "code",
   "execution_count": 45,
   "metadata": {
    "collapsed": false
   },
   "outputs": [
    {
     "data": {
      "text/html": [
       "'YAKIMA VALLEY MEMORIAL HOSPITAL'"
      ],
      "text/latex": [
       "'YAKIMA VALLEY MEMORIAL HOSPITAL'"
      ],
      "text/markdown": [
       "'YAKIMA VALLEY MEMORIAL HOSPITAL'"
      ],
      "text/plain": [
       "[1] \"YAKIMA VALLEY MEMORIAL HOSPITAL\""
      ]
     },
     "metadata": {},
     "output_type": "display_data"
    }
   ],
   "source": [
    "rankhospital(\"WA\", \"heart attack\", 7)"
   ]
  },
  {
   "cell_type": "code",
   "execution_count": 46,
   "metadata": {
    "collapsed": false
   },
   "outputs": [
    {
     "data": {
      "text/html": [
       "'SETON SMITHVILLE REGIONAL HOSPITAL'"
      ],
      "text/latex": [
       "'SETON SMITHVILLE REGIONAL HOSPITAL'"
      ],
      "text/markdown": [
       "'SETON SMITHVILLE REGIONAL HOSPITAL'"
      ],
      "text/plain": [
       "[1] \"SETON SMITHVILLE REGIONAL HOSPITAL\""
      ]
     },
     "metadata": {},
     "output_type": "display_data"
    }
   ],
   "source": [
    "rankhospital(\"TX\", \"pneumonia\", 10)"
   ]
  },
  {
   "cell_type": "code",
   "execution_count": 47,
   "metadata": {
    "collapsed": false
   },
   "outputs": [
    {
     "data": {
      "text/html": [
       "'BELLEVUE HOSPITAL CENTER'"
      ],
      "text/latex": [
       "'BELLEVUE HOSPITAL CENTER'"
      ],
      "text/markdown": [
       "'BELLEVUE HOSPITAL CENTER'"
      ],
      "text/plain": [
       "[1] \"BELLEVUE HOSPITAL CENTER\""
      ]
     },
     "metadata": {},
     "output_type": "display_data"
    }
   ],
   "source": [
    "rankhospital(\"NY\", \"heart attack\", 7)"
   ]
  },
  {
   "cell_type": "code",
   "execution_count": 48,
   "metadata": {
    "collapsed": false
   },
   "outputs": [
    {
     "data": {
      "text/html": [
       "'CASTLE MEDICAL CENTER'"
      ],
      "text/latex": [
       "'CASTLE MEDICAL CENTER'"
      ],
      "text/markdown": [
       "'CASTLE MEDICAL CENTER'"
      ],
      "text/plain": [
       "[1] \"CASTLE MEDICAL CENTER\""
      ]
     },
     "metadata": {},
     "output_type": "display_data"
    }
   ],
   "source": [
    "r <- rankall(\"heart attack\", 4)\n",
    "as.character(subset(r, state == \"HI\")$hospital)"
   ]
  },
  {
   "cell_type": "code",
   "execution_count": 49,
   "metadata": {
    "collapsed": false
   },
   "outputs": [
    {
     "data": {
      "text/html": [
       "'BERGEN REGIONAL MEDICAL CENTER'"
      ],
      "text/latex": [
       "'BERGEN REGIONAL MEDICAL CENTER'"
      ],
      "text/markdown": [
       "'BERGEN REGIONAL MEDICAL CENTER'"
      ],
      "text/plain": [
       "[1] \"BERGEN REGIONAL MEDICAL CENTER\""
      ]
     },
     "metadata": {},
     "output_type": "display_data"
    }
   ],
   "source": [
    "r <- rankall(\"pneumonia\", \"worst\")\n",
    "as.character(subset(r, state == \"NJ\")$hospital)"
   ]
  },
  {
   "cell_type": "code",
   "execution_count": 50,
   "metadata": {
    "collapsed": false
   },
   "outputs": [
    {
     "data": {
      "text/html": [
       "'RENOWN SOUTH MEADOWS MEDICAL CENTER'"
      ],
      "text/latex": [
       "'RENOWN SOUTH MEADOWS MEDICAL CENTER'"
      ],
      "text/markdown": [
       "'RENOWN SOUTH MEADOWS MEDICAL CENTER'"
      ],
      "text/plain": [
       "[1] \"RENOWN SOUTH MEADOWS MEDICAL CENTER\""
      ]
     },
     "metadata": {},
     "output_type": "display_data"
    }
   ],
   "source": [
    "r <- rankall(\"heart failure\", 10)\n",
    "as.character(subset(r, state == \"NV\")$hospital)"
   ]
  },
  {
   "cell_type": "code",
   "execution_count": null,
   "metadata": {
    "collapsed": true
   },
   "outputs": [],
   "source": []
  }
 ],
 "metadata": {
  "kernelspec": {
   "display_name": "R",
   "language": "R",
   "name": "ir"
  },
  "language_info": {
   "codemirror_mode": "r",
   "file_extension": ".r",
   "mimetype": "text/x-r-source",
   "name": "R",
   "pygments_lexer": "r",
   "version": "3.3.2"
  }
 },
 "nbformat": 4,
 "nbformat_minor": 2
}
