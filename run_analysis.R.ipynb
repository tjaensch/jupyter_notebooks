{
 "cells": [
  {
   "cell_type": "code",
   "execution_count": 53,
   "metadata": {
    "collapsed": false
   },
   "outputs": [
    {
     "name": "stderr",
     "output_type": "stream",
     "text": [
      "Updating HTML index of packages in '.Library'\n",
      "Making 'packages.html' ... done\n"
     ]
    }
   ],
   "source": [
    "install.packages(\"data.table\")"
   ]
  },
  {
   "cell_type": "code",
   "execution_count": 54,
   "metadata": {
    "collapsed": false
   },
   "outputs": [
    {
     "name": "stderr",
     "output_type": "stream",
     "text": [
      "Updating HTML index of packages in '.Library'\n",
      "Making 'packages.html' ... done\n"
     ]
    }
   ],
   "source": [
    "install.packages(\"reshape2\")"
   ]
  },
  {
   "cell_type": "code",
   "execution_count": 55,
   "metadata": {
    "collapsed": true
   },
   "outputs": [],
   "source": [
    "# load data from txt files\n",
    "activity_labels <- read.table(\"./UCI HAR Dataset/activity_labels.txt\")[,2]\n",
    "features <- read.table(\"./UCI HAR Dataset/features.txt\")[,2]"
   ]
  },
  {
   "cell_type": "code",
   "execution_count": 56,
   "metadata": {
    "collapsed": true
   },
   "outputs": [],
   "source": [
    "# extract measurements on the mean and standard deviation for each measurement\n",
    "extract_features <- grepl(\"mean|std\", features)"
   ]
  },
  {
   "cell_type": "code",
   "execution_count": 57,
   "metadata": {
    "collapsed": true
   },
   "outputs": [],
   "source": [
    "# variable names carried over from source data\n",
    "X_test <- read.table(\"./UCI HAR Dataset/test/X_test.txt\")\n",
    "y_test <- read.table(\"./UCI HAR Dataset/test/y_test.txt\")\n",
    "subject_test <- read.table(\"./UCI HAR Dataset/test/subject_test.txt\")\n",
    "names(X_test) = features"
   ]
  },
  {
   "cell_type": "code",
   "execution_count": 58,
   "metadata": {
    "collapsed": true
   },
   "outputs": [],
   "source": [
    "X_test = X_test[,extract_features]"
   ]
  },
  {
   "cell_type": "code",
   "execution_count": 59,
   "metadata": {
    "collapsed": true
   },
   "outputs": [],
   "source": [
    "y_test[,2] = activity_labels[y_test[,1]]\n",
    "names(y_test) = c(\"Activity_ID\", \"Activity_Label\")\n",
    "names(subject_test) = \"subject\""
   ]
  },
  {
   "cell_type": "code",
   "execution_count": 60,
   "metadata": {
    "collapsed": true
   },
   "outputs": [],
   "source": [
    "test_data <- cbind(as.data.table(subject_test), y_test, X_test)"
   ]
  },
  {
   "cell_type": "code",
   "execution_count": 61,
   "metadata": {
    "collapsed": true
   },
   "outputs": [],
   "source": [
    "X_train <- read.table(\"./UCI HAR Dataset/train/X_train.txt\")\n",
    "y_train <- read.table(\"./UCI HAR Dataset/train/y_train.txt\")\n",
    "subject_train <- read.table(\"./UCI HAR Dataset/train/subject_train.txt\")\n",
    "names(X_train) = features"
   ]
  },
  {
   "cell_type": "code",
   "execution_count": 62,
   "metadata": {
    "collapsed": true
   },
   "outputs": [],
   "source": [
    "X_train = X_train[,extract_features]\n",
    "\n",
    "# load activity data\n",
    "y_train[,2] = activity_labels[y_train[,1]]\n",
    "names(y_train) = c(\"Activity_ID\", \"Activity_Label\")\n",
    "names(subject_train) = \"subject\"\n",
    "\n",
    "# bind data\n",
    "train_data <- cbind(as.data.table(subject_train), y_train, X_train)\n",
    "\n",
    "# merge test and train data\n",
    "data = rbind(test_data, train_data)\n",
    "\n",
    "id_labels   = c(\"subject\", \"Activity_ID\", \"Activity_Label\")\n",
    "data_labels = setdiff(colnames(data), id_labels)\n",
    "melt_data = melt(data, id = id_labels, measure.vars = data_labels)\n",
    "\n",
    "cleaned_data = dcast(melt_data, subject + Activity_Label ~ variable, mean)\n",
    "\n",
    "# write cleaned data to text file\n",
    "write.table(cleaned_data, file = \"./cleaned_data.txt\")"
   ]
  },
  {
   "cell_type": "code",
   "execution_count": null,
   "metadata": {
    "collapsed": true
   },
   "outputs": [],
   "source": []
  }
 ],
 "metadata": {
  "kernelspec": {
   "display_name": "R",
   "language": "R",
   "name": "ir"
  },
  "language_info": {
   "codemirror_mode": "r",
   "file_extension": ".r",
   "mimetype": "text/x-r-source",
   "name": "R",
   "pygments_lexer": "r",
   "version": "3.3.2"
  }
 },
 "nbformat": 4,
 "nbformat_minor": 2
}
