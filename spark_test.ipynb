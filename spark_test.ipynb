{
 "cells": [
  {
   "cell_type": "code",
   "execution_count": 23,
   "metadata": {
    "collapsed": false
   },
   "outputs": [
    {
     "ename": "AttributeError",
     "evalue": "'dict' object has no attribute 'has_key'",
     "output_type": "error",
     "traceback": [
      "\u001b[0;31m---------------------------------------------------------------------------\u001b[0m",
      "\u001b[0;31mAttributeError\u001b[0m                            Traceback (most recent call last)",
      "\u001b[0;32m<ipython-input-23-850c0490a6f3>\u001b[0m in \u001b[0;36m<module>\u001b[0;34m()\u001b[0m\n\u001b[1;32m     15\u001b[0m     \u001b[0;32mfor\u001b[0m \u001b[0mrow\u001b[0m \u001b[0;32min\u001b[0m \u001b[0mreader\u001b[0m\u001b[0;34m:\u001b[0m\u001b[0;34m\u001b[0m\u001b[0m\n\u001b[1;32m     16\u001b[0m         \u001b[0myear\u001b[0m \u001b[0;34m=\u001b[0m \u001b[0mrow\u001b[0m\u001b[0;34m[\u001b[0m\u001b[0;34m'YEAR'\u001b[0m\u001b[0;34m]\u001b[0m\u001b[0;34m\u001b[0m\u001b[0m\n\u001b[0;32m---> 17\u001b[0;31m         \u001b[0;32mif\u001b[0m \u001b[0myears\u001b[0m\u001b[0;34m.\u001b[0m\u001b[0mhas_key\u001b[0m\u001b[0;34m(\u001b[0m\u001b[0myear\u001b[0m\u001b[0;34m)\u001b[0m\u001b[0;34m:\u001b[0m\u001b[0;34m\u001b[0m\u001b[0m\n\u001b[0m\u001b[1;32m     18\u001b[0m             \u001b[0myears\u001b[0m\u001b[0;34m[\u001b[0m\u001b[0myear\u001b[0m\u001b[0;34m]\u001b[0m \u001b[0;34m=\u001b[0m \u001b[0myears\u001b[0m\u001b[0;34m[\u001b[0m\u001b[0myear\u001b[0m\u001b[0;34m]\u001b[0m \u001b[0;34m+\u001b[0m \u001b[0;36m1\u001b[0m\u001b[0;34m\u001b[0m\u001b[0m\n\u001b[1;32m     19\u001b[0m         \u001b[0;32melse\u001b[0m\u001b[0;34m:\u001b[0m\u001b[0;34m\u001b[0m\u001b[0m\n",
      "\u001b[0;31mAttributeError\u001b[0m: 'dict' object has no attribute 'has_key'"
     ]
    }
   ],
   "source": [
    "import pyspark\n",
    "import csv\n",
    "import operator\n",
    "import itertools\n",
    "import collections\n",
    "if not 'sc' in globals():\n",
    "    sc = pyspark.SparkContext()\n",
    "years = {}\n",
    "occupations = {}\n",
    "guests = {}\n",
    "#The file header contains these column descriptors\n",
    "#YEAR,GoogleKnowlege_Occupation,Show,Group,Raw_Guest_List\n",
    "with open('desktop/daily_show_guests.csv', 'rt') as csvfile:    \n",
    "    reader = csv.DictReader(csvfile)\n",
    "    for row in reader:\n",
    "        year = row['YEAR']\n",
    "        if years.has_key(year):\n",
    "            years[year] = years[year] + 1\n",
    "        else:\n",
    "            years[year] = 1\n",
    "        occupation = row['GoogleKnowlege_Occupation']\n",
    "        if occupations.has_key(occupation):\n",
    "            occupations[occupation] = occupations[occupation] + 1\n",
    "        else:\n",
    "            occupations[occupation] = 1\n",
    "        guest = row['Raw_Guest_List']\n",
    "        if guests.has_key(guest):\n",
    "            guests[guest] = guests[guest] + 1\n",
    "        else:\n",
    "            guests[guest] = 1\n",
    "syears = sorted(years.items(), key=operator.itemgetter(1), reverse=True)\n",
    "soccupations = sorted(occupations.items(), key=operator.itemgetter(1), reverse=True)\n",
    "sguests = sorted(guests.items(), key=operator.itemgetter(1), reverse=True)\n",
    "print(syears[:5])\n",
    "print(soccupations[:5])\n",
    "print(sguests[:5])"
   ]
  }
 ],
 "metadata": {
  "kernelspec": {
   "display_name": "Python [conda root]",
   "language": "python",
   "name": "conda-root-py"
  },
  "language_info": {
   "codemirror_mode": {
    "name": "ipython",
    "version": 3
   },
   "file_extension": ".py",
   "mimetype": "text/x-python",
   "name": "python",
   "nbconvert_exporter": "python",
   "pygments_lexer": "ipython3",
   "version": "3.5.2"
  }
 },
 "nbformat": 4,
 "nbformat_minor": 2
}
